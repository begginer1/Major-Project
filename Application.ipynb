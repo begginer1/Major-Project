{
 "cells": [
  {
   "cell_type": "code",
   "execution_count": 7,
   "metadata": {},
   "outputs": [
    {
     "name": "stdout",
     "output_type": "stream",
     "text": [
      "Overwriting app.py\n"
     ]
    }
   ],
   "source": [
    "%%writefile app.py\n",
    "\n",
    "from keras.applications.vgg16 import VGG16, preprocess_input\n",
    "from keras.preprocessing.image import img_to_array\n",
    "from tensorflow.keras.preprocessing import image\n",
    "from tensorflow.keras.applications.inception_v3 import InceptionV3\n",
    "from tensorflow.keras.applications.inception_v3 import preprocess_input, decode_predictions\n",
    "from PIL import Image\n",
    "import torchvision.transforms as transforms\n",
    "import streamlit as st\n",
    "import pickle\n",
    "import pandas as pd\n",
    "import transformers as ppb\n",
    "import tensorflow as tf\n",
    "import torch\n",
    "import numpy as np\n",
    "\n",
    "st.title(\"Social Media Vigilancer\")\n",
    "st.write(\"Identify Hatespeech\")\n",
    "\n",
    "max_len=98\n",
    "# File uploader\n",
    "uploaded_file = st.file_uploader(\"Choose an image file\", type=[\"jpg\", \"jpeg\", \"png\"])\n",
    "\n",
    "# Classify the uploaded image\n",
    "if uploaded_file is not None:\n",
    "    image = Image.open(uploaded_file)\n",
    "    st.image(image, caption=\"Uploaded Image\", use_column_width=True)\n",
    "\n",
    "user_input = st.text_input(\"Enter text in meme\")\n",
    "\n",
    "# Display the entered text\n",
    "if user_input is not None:\n",
    "    st.write(\"You entered:\", user_input)\n",
    "\n",
    "if uploaded_file is not None and user_input is not None:\n",
    "    inception = InceptionV3(weights='imagenet')\n",
    "    image = image.resize((299, 299))\n",
    "    x = img_to_array(image) #convert grey scale of RGB array of (0,255)\n",
    "    x = np.array([x]) # converting into list of each x\n",
    "    x = preprocess_input(x) #normalize and remove RGB mean range btw[-1,1]\n",
    "    preds = inception.predict(x)# predcting probabilty of each calss for the x wat in (299,299,3) height,width,dim(RGB)\n",
    "    predicted = decode_predictions(preds, top = 5)[0]\n",
    "    data=user_input\n",
    "    for j in range(0, 5):\n",
    "        data=data+\" \"+predicted[j][1]\n",
    "    dict={'text':[data]}\n",
    "    df = pd.DataFrame(dict)# creating a dataframe\n",
    "    ## for BERT \n",
    "    model_class, tokenizer_class, pretrained_weights = (ppb.BertModel, ppb.BertTokenizer, 'bert-base-uncased')\n",
    "\n",
    "    # Load pretrained model/tokenizer\n",
    "    tokenizer = tokenizer_class.from_pretrained(pretrained_weights) #tokenizer form hugging face\n",
    "    bert_model = model_class.from_pretrained(pretrained_weights)# take  all previsous layers hidden or o/p\n",
    "    tokenize = tokenizer_class.from_pretrained(pretrained_weights)\n",
    "    tokenized = df['text'].apply((lambda x: tokenize.encode(str(x), add_special_tokens=True)))# work with daatframe\n",
    "    \n",
    "    padded = np.array([i + [0]*(max_len-len(i)) for i in tokenized.values])\n",
    "    \n",
    "    \n",
    "    # Extract Attention Masks(tell which token to ignore and to process in form of 0 and 1 for bert model)\n",
    "    attention_mask = np.where(padded != 0, 1, 0)\n",
    "\n",
    "    # Here we just convert the data to tensors\n",
    "    input_ids = torch.tensor(padded)  \n",
    "    attention_mask = torch.tensor(attention_mask)\n",
    "\n",
    "    # no gradient while forwarding propagation\n",
    "    with torch.no_grad():\n",
    "        last_hidden_states = bert_model(input_ids, attention_mask=attention_mask)\n",
    "\n",
    "    # Extracting features of the CLS tokens\n",
    "    feat = last_hidden_states[0][:,0,:].numpy()\n",
    "    \n",
    "    #ML models\n",
    "    with open('lr_clf1.pkl', 'rb') as f:\n",
    "        lr_clf = pickle.load(f)\n",
    "    with open('svm.pkl', 'rb') as f:\n",
    "        svm = pickle.load(f)\n",
    "    with open('rfm.pkl', 'rb') as f:\n",
    "        rfm = pickle.load(f)\n",
    "    \n",
    "    lstm = tf.keras.models.load_model('lstm.h5')\n",
    "    bilstm = tf.keras.models.load_model('bilstm.h5')\n",
    "\n",
    "    feat_reshaped = np.reshape(feat, (-1, 1, 768)) # for 3d shape\n",
    "\n",
    "if st.button(\"Predict\"):\n",
    "        pred1 = lr_clf.predict(feat)\n",
    "        pred2=svm.predict(feat)\n",
    "        pred3=rfm.predict(feat)\n",
    "        pred4=lstm.predict(feat_reshaped)\n",
    "        pred5=bilstm.predict(feat_reshaped)\n",
    "        st.write(\"Prediction of Logistic Regression:\", pred1[0])\n",
    "        st.write(\"Prediction of SVM:\", pred2[0])\n",
    "        st.write(\"Prediction of Random Forest:\", pred3[0])\n",
    "        st.write(\"Prediction of LSTM:\", pred4[0])\n",
    "        st.write(\"Prediction of BILSTM:\", pred5[0])"
   ]
  },
  {
   "cell_type": "code",
   "execution_count": null,
   "metadata": {},
   "outputs": [],
   "source": [
    "def check(op):\n",
    "    if op>= 0.44:\n",
    "        op=1\n",
    "    else:\n",
    "        op=0;\n",
    "    return op "
   ]
  },
  {
   "cell_type": "code",
   "execution_count": 6,
   "metadata": {},
   "outputs": [
    {
     "data": {
      "text/plain": [
       "'3.7.6'"
      ]
     },
     "execution_count": 6,
     "metadata": {},
     "output_type": "execute_result"
    }
   ],
   "source": [
    "from platform import python_version\n",
    "python_version()"
   ]
  },
  {
   "cell_type": "code",
   "execution_count": 1,
   "metadata": {},
   "outputs": [
    {
     "name": "stdout",
     "output_type": "stream",
     "text": [
      "Requirement already satisfied: streamlit in c:\\users\\acer\\anaconda3\\lib\\site-packages (1.22.0)\n",
      "Requirement already satisfied: numpy in c:\\users\\acer\\anaconda3\\lib\\site-packages (from streamlit) (1.21.6)\n",
      "Requirement already satisfied: tzlocal>=1.1 in c:\\users\\acer\\anaconda3\\lib\\site-packages (from streamlit) (5.0.1)\n",
      "Requirement already satisfied: pillow>=6.2.0 in c:\\users\\acer\\anaconda3\\lib\\site-packages (from streamlit) (7.0.0)\n",
      "Requirement already satisfied: altair<5,>=3.2.0 in c:\\users\\acer\\anaconda3\\lib\\site-packages (from streamlit) (4.2.2)\n",
      "Requirement already satisfied: pyarrow>=4.0 in c:\\users\\acer\\anaconda3\\lib\\site-packages (from streamlit) (12.0.0)\n",
      "Requirement already satisfied: watchdog in c:\\users\\acer\\anaconda3\\lib\\site-packages (from streamlit) (0.10.2)\n",
      "Requirement already satisfied: pydeck>=0.1.dev5 in c:\\users\\acer\\anaconda3\\lib\\site-packages (from streamlit) (0.8.1b0)\n",
      "Requirement already satisfied: validators>=0.2 in c:\\users\\acer\\anaconda3\\lib\\site-packages (from streamlit) (0.20.0)\n",
      "Requirement already satisfied: packaging>=14.1 in c:\\users\\acer\\anaconda3\\lib\\site-packages (from streamlit) (23.0)\n",
      "Requirement already satisfied: rich>=10.11.0 in c:\\users\\acer\\anaconda3\\lib\\site-packages (from streamlit) (13.3.5)\n",
      "Requirement already satisfied: tornado>=6.0.3 in c:\\users\\acer\\anaconda3\\lib\\site-packages (from streamlit) (6.0.3)\n",
      "Requirement already satisfied: importlib-metadata>=1.4 in c:\\users\\acer\\anaconda3\\lib\\site-packages (from streamlit) (4.11.3)\n",
      "Requirement already satisfied: cachetools>=4.0 in c:\\users\\acer\\anaconda3\\lib\\site-packages (from streamlit) (5.0.0)\n",
      "Requirement already satisfied: gitpython!=3.1.19 in c:\\users\\acer\\anaconda3\\lib\\site-packages (from streamlit) (3.1.31)\n",
      "Requirement already satisfied: protobuf<4,>=3.12 in c:\\users\\acer\\anaconda3\\lib\\site-packages (from streamlit) (3.20.0)\n",
      "Requirement already satisfied: pandas<3,>=0.25 in c:\\users\\acer\\anaconda3\\lib\\site-packages (from streamlit) (1.0.1)\n",
      "Requirement already satisfied: blinker>=1.0.0 in c:\\users\\acer\\anaconda3\\lib\\site-packages (from streamlit) (1.6.2)\n",
      "Requirement already satisfied: toml in c:\\users\\acer\\anaconda3\\lib\\site-packages (from streamlit) (0.10.2)\n",
      "Requirement already satisfied: pympler>=0.9 in c:\\users\\acer\\anaconda3\\lib\\site-packages (from streamlit) (1.0.1)\n",
      "Requirement already satisfied: typing-extensions>=3.10.0.0 in c:\\users\\acer\\anaconda3\\lib\\site-packages (from streamlit) (4.4.0)\n",
      "Requirement already satisfied: python-dateutil in c:\\users\\acer\\anaconda3\\lib\\site-packages (from streamlit) (2.8.1)\n",
      "Requirement already satisfied: requests>=2.4 in c:\\users\\acer\\anaconda3\\lib\\site-packages (from streamlit) (2.22.0)\n",
      "Requirement already satisfied: tenacity<9,>=8.0.0 in c:\\users\\acer\\anaconda3\\lib\\site-packages (from streamlit) (8.2.2)\n",
      "Requirement already satisfied: click>=7.0 in c:\\users\\acer\\anaconda3\\lib\\site-packages (from streamlit) (7.0)\n",
      "Requirement already satisfied: jsonschema>=3.0 in c:\\users\\acer\\anaconda3\\lib\\site-packages (from altair<5,>=3.2.0->streamlit) (3.2.0)\n",
      "Requirement already satisfied: toolz in c:\\users\\acer\\anaconda3\\lib\\site-packages (from altair<5,>=3.2.0->streamlit) (0.10.0)\n",
      "Requirement already satisfied: jinja2 in c:\\users\\acer\\anaconda3\\lib\\site-packages (from altair<5,>=3.2.0->streamlit) (2.11.1)\n",
      "Requirement already satisfied: entrypoints in c:\\users\\acer\\anaconda3\\lib\\site-packages (from altair<5,>=3.2.0->streamlit) (0.3)\n",
      "Requirement already satisfied: gitdb<5,>=4.0.1 in c:\\users\\acer\\anaconda3\\lib\\site-packages (from gitpython!=3.1.19->streamlit) (4.0.10)\n",
      "Requirement already satisfied: zipp>=0.5 in c:\\users\\acer\\anaconda3\\lib\\site-packages (from importlib-metadata>=1.4->streamlit) (2.2.0)\n",
      "Requirement already satisfied: pytz>=2017.2 in c:\\users\\acer\\anaconda3\\lib\\site-packages (from pandas<3,>=0.25->streamlit) (2019.3)\n",
      "Requirement already satisfied: six>=1.5 in c:\\users\\acer\\anaconda3\\lib\\site-packages (from python-dateutil->streamlit) (1.14.0)\n",
      "Requirement already satisfied: chardet<3.1.0,>=3.0.2 in c:\\users\\acer\\anaconda3\\lib\\site-packages (from requests>=2.4->streamlit) (3.0.4)\n",
      "Requirement already satisfied: idna<2.9,>=2.5 in c:\\users\\acer\\anaconda3\\lib\\site-packages (from requests>=2.4->streamlit) (2.8)\n",
      "Requirement already satisfied: urllib3!=1.25.0,!=1.25.1,<1.26,>=1.21.1 in c:\\users\\acer\\anaconda3\\lib\\site-packages (from requests>=2.4->streamlit) (1.25.8)\n",
      "Requirement already satisfied: certifi>=2017.4.17 in c:\\users\\acer\\anaconda3\\lib\\site-packages (from requests>=2.4->streamlit) (2019.11.28)\n",
      "Requirement already satisfied: markdown-it-py<3.0.0,>=2.2.0 in c:\\users\\acer\\anaconda3\\lib\\site-packages (from rich>=10.11.0->streamlit) (2.2.0)\n",
      "Requirement already satisfied: pygments<3.0.0,>=2.13.0 in c:\\users\\acer\\anaconda3\\lib\\site-packages (from rich>=10.11.0->streamlit) (2.15.1)\n",
      "Requirement already satisfied: tzdata in c:\\users\\acer\\anaconda3\\lib\\site-packages (from tzlocal>=1.1->streamlit) (2023.3)\n",
      "Requirement already satisfied: backports.zoneinfo in c:\\users\\acer\\anaconda3\\lib\\site-packages (from tzlocal>=1.1->streamlit) (0.2.1)\n",
      "Requirement already satisfied: decorator>=3.4.0 in c:\\users\\acer\\anaconda3\\lib\\site-packages (from validators>=0.2->streamlit) (4.4.1)\n",
      "Requirement already satisfied: pathtools>=0.1.1 in c:\\users\\acer\\anaconda3\\lib\\site-packages (from watchdog->streamlit) (0.1.2)\n",
      "Requirement already satisfied: smmap<6,>=3.0.1 in c:\\users\\acer\\anaconda3\\lib\\site-packages (from gitdb<5,>=4.0.1->gitpython!=3.1.19->streamlit) (5.0.0)\n",
      "Requirement already satisfied: MarkupSafe>=0.23 in c:\\users\\acer\\anaconda3\\lib\\site-packages (from jinja2->altair<5,>=3.2.0->streamlit) (1.1.1)\n",
      "Requirement already satisfied: attrs>=17.4.0 in c:\\users\\acer\\anaconda3\\lib\\site-packages (from jsonschema>=3.0->altair<5,>=3.2.0->streamlit) (19.3.0)\n",
      "Requirement already satisfied: pyrsistent>=0.14.0 in c:\\users\\acer\\anaconda3\\lib\\site-packages (from jsonschema>=3.0->altair<5,>=3.2.0->streamlit) (0.15.7)\n",
      "Requirement already satisfied: setuptools in c:\\users\\acer\\anaconda3\\lib\\site-packages (from jsonschema>=3.0->altair<5,>=3.2.0->streamlit) (45.2.0.post20200210)\n",
      "Requirement already satisfied: mdurl~=0.1 in c:\\users\\acer\\anaconda3\\lib\\site-packages (from markdown-it-py<3.0.0,>=2.2.0->rich>=10.11.0->streamlit) (0.1.2)\n"
     ]
    },
    {
     "name": "stderr",
     "output_type": "stream",
     "text": [
      "WARNING: Ignoring invalid distribution -umpy (c:\\users\\acer\\anaconda3\\lib\\site-packages)\n",
      "WARNING: Ignoring invalid distribution -orchvision (c:\\users\\acer\\anaconda3\\lib\\site-packages)\n",
      "WARNING: Ignoring invalid distribution -umpy (c:\\users\\acer\\anaconda3\\lib\\site-packages)\n",
      "WARNING: Ignoring invalid distribution -orchvision (c:\\users\\acer\\anaconda3\\lib\\site-packages)\n",
      "WARNING: Ignoring invalid distribution -umpy (c:\\users\\acer\\anaconda3\\lib\\site-packages)\n",
      "WARNING: Ignoring invalid distribution -orchvision (c:\\users\\acer\\anaconda3\\lib\\site-packages)\n",
      "WARNING: Ignoring invalid distribution -umpy (c:\\users\\acer\\anaconda3\\lib\\site-packages)\n",
      "WARNING: Ignoring invalid distribution -orchvision (c:\\users\\acer\\anaconda3\\lib\\site-packages)\n",
      "WARNING: Ignoring invalid distribution -umpy (c:\\users\\acer\\anaconda3\\lib\\site-packages)\n",
      "WARNING: Ignoring invalid distribution -orchvision (c:\\users\\acer\\anaconda3\\lib\\site-packages)\n",
      "WARNING: Ignoring invalid distribution -umpy (c:\\users\\acer\\anaconda3\\lib\\site-packages)\n",
      "WARNING: Ignoring invalid distribution -orchvision (c:\\users\\acer\\anaconda3\\lib\\site-packages)\n",
      "\n",
      "[notice] A new release of pip is available: 23.0.1 -> 23.1.2\n",
      "[notice] To update, run: python.exe -m pip install --upgrade pip\n"
     ]
    }
   ],
   "source": [
    "#!pip install streamlit"
   ]
  },
  {
   "cell_type": "code",
   "execution_count": 2,
   "metadata": {},
   "outputs": [
    {
     "name": "stdout",
     "output_type": "stream",
     "text": [
      "Requirement already satisfied: torchvision in c:\\users\\acer\\anaconda3\\lib\\site-packages (0.14.1)\n",
      "Requirement already satisfied: typing-extensions in c:\\users\\acer\\anaconda3\\lib\\site-packages (from torchvision) (4.4.0)\n",
      "Requirement already satisfied: numpy in c:\\users\\acer\\anaconda3\\lib\\site-packages (from torchvision) (1.21.6)\n",
      "Requirement already satisfied: pillow!=8.3.*,>=5.3.0 in c:\\users\\acer\\anaconda3\\lib\\site-packages (from torchvision) (7.0.0)\n",
      "Requirement already satisfied: requests in c:\\users\\acer\\anaconda3\\lib\\site-packages (from torchvision) (2.22.0)\n",
      "Requirement already satisfied: torch==1.13.1 in c:\\users\\acer\\anaconda3\\lib\\site-packages (from torchvision) (1.13.1)\n",
      "Requirement already satisfied: idna<2.9,>=2.5 in c:\\users\\acer\\anaconda3\\lib\\site-packages (from requests->torchvision) (2.8)\n",
      "Requirement already satisfied: urllib3!=1.25.0,!=1.25.1,<1.26,>=1.21.1 in c:\\users\\acer\\anaconda3\\lib\\site-packages (from requests->torchvision) (1.25.8)\n",
      "Requirement already satisfied: chardet<3.1.0,>=3.0.2 in c:\\users\\acer\\anaconda3\\lib\\site-packages (from requests->torchvision) (3.0.4)\n",
      "Requirement already satisfied: certifi>=2017.4.17 in c:\\users\\acer\\anaconda3\\lib\\site-packages (from requests->torchvision) (2019.11.28)\n",
      "Note: you may need to restart the kernel to use updated packages.\n"
     ]
    },
    {
     "name": "stderr",
     "output_type": "stream",
     "text": [
      "WARNING: Ignoring invalid distribution -umpy (c:\\users\\acer\\anaconda3\\lib\\site-packages)\n",
      "WARNING: Ignoring invalid distribution -orchvision (c:\\users\\acer\\anaconda3\\lib\\site-packages)\n",
      "WARNING: Ignoring invalid distribution -umpy (c:\\users\\acer\\anaconda3\\lib\\site-packages)\n",
      "WARNING: Ignoring invalid distribution -orchvision (c:\\users\\acer\\anaconda3\\lib\\site-packages)\n",
      "WARNING: Ignoring invalid distribution -umpy (c:\\users\\acer\\anaconda3\\lib\\site-packages)\n",
      "WARNING: Ignoring invalid distribution -orchvision (c:\\users\\acer\\anaconda3\\lib\\site-packages)\n",
      "WARNING: Ignoring invalid distribution -umpy (c:\\users\\acer\\anaconda3\\lib\\site-packages)\n",
      "WARNING: Ignoring invalid distribution -orchvision (c:\\users\\acer\\anaconda3\\lib\\site-packages)\n",
      "WARNING: Ignoring invalid distribution -umpy (c:\\users\\acer\\anaconda3\\lib\\site-packages)\n",
      "WARNING: Ignoring invalid distribution -orchvision (c:\\users\\acer\\anaconda3\\lib\\site-packages)\n",
      "WARNING: Ignoring invalid distribution -umpy (c:\\users\\acer\\anaconda3\\lib\\site-packages)\n",
      "WARNING: Ignoring invalid distribution -orchvision (c:\\users\\acer\\anaconda3\\lib\\site-packages)\n",
      "\n",
      "[notice] A new release of pip is available: 23.0.1 -> 23.1.2\n",
      "[notice] To update, run: python.exe -m pip install --upgrade pip\n"
     ]
    }
   ],
   "source": [
    "pip install torchvision"
   ]
  },
  {
   "cell_type": "code",
   "execution_count": 3,
   "metadata": {},
   "outputs": [
    {
     "name": "stdout",
     "output_type": "stream",
     "text": [
      "Requirement already satisfied: numpy in c:\\users\\acer\\anaconda3\\lib\\site-packages (1.21.6)\n",
      "Note: you may need to restart the kernel to use updated packages.\n"
     ]
    },
    {
     "name": "stderr",
     "output_type": "stream",
     "text": [
      "WARNING: Ignoring invalid distribution -umpy (c:\\users\\acer\\anaconda3\\lib\\site-packages)\n",
      "WARNING: Ignoring invalid distribution -orchvision (c:\\users\\acer\\anaconda3\\lib\\site-packages)\n",
      "WARNING: Ignoring invalid distribution -umpy (c:\\users\\acer\\anaconda3\\lib\\site-packages)\n",
      "WARNING: Ignoring invalid distribution -orchvision (c:\\users\\acer\\anaconda3\\lib\\site-packages)\n",
      "WARNING: Ignoring invalid distribution -umpy (c:\\users\\acer\\anaconda3\\lib\\site-packages)\n",
      "WARNING: Ignoring invalid distribution -orchvision (c:\\users\\acer\\anaconda3\\lib\\site-packages)\n",
      "WARNING: Ignoring invalid distribution -umpy (c:\\users\\acer\\anaconda3\\lib\\site-packages)\n",
      "WARNING: Ignoring invalid distribution -orchvision (c:\\users\\acer\\anaconda3\\lib\\site-packages)\n",
      "WARNING: Ignoring invalid distribution -umpy (c:\\users\\acer\\anaconda3\\lib\\site-packages)\n",
      "WARNING: Ignoring invalid distribution -orchvision (c:\\users\\acer\\anaconda3\\lib\\site-packages)\n",
      "WARNING: Ignoring invalid distribution -umpy (c:\\users\\acer\\anaconda3\\lib\\site-packages)\n",
      "WARNING: Ignoring invalid distribution -orchvision (c:\\users\\acer\\anaconda3\\lib\\site-packages)\n",
      "\n",
      "[notice] A new release of pip is available: 23.0.1 -> 23.1.2\n",
      "[notice] To update, run: python.exe -m pip install --upgrade pip\n"
     ]
    }
   ],
   "source": [
    "pip install numpy"
   ]
  },
  {
   "cell_type": "code",
   "execution_count": null,
   "metadata": {},
   "outputs": [],
   "source": [
    "streamlit run app.py# in anaconda prompt in app path"
   ]
  }
 ],
 "metadata": {
  "kernelspec": {
   "display_name": "Python 3",
   "language": "python",
   "name": "python3"
  },
  "language_info": {
   "codemirror_mode": {
    "name": "ipython",
    "version": 3
   },
   "file_extension": ".py",
   "mimetype": "text/x-python",
   "name": "python",
   "nbconvert_exporter": "python",
   "pygments_lexer": "ipython3",
   "version": "3.7.6"
  }
 },
 "nbformat": 4,
 "nbformat_minor": 4
}
