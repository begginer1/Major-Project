{
 "cells": [
  {
   "cell_type": "code",
   "execution_count": 1,
   "metadata": {},
   "outputs": [],
   "source": [
    "#pip install --upgrade pip"
   ]
  },
  {
   "cell_type": "code",
   "execution_count": 2,
   "metadata": {},
   "outputs": [],
   "source": [
    "#conda update -n base -c defaults conda"
   ]
  },
  {
   "cell_type": "markdown",
   "metadata": {},
   "source": [
    "# importing Library"
   ]
  },
  {
   "cell_type": "code",
   "execution_count": 4,
   "metadata": {},
   "outputs": [],
   "source": [
    "import numpy as np\n",
    "import pandas as pd\n",
    "import matplotlib.pyplot as plt\n",
    "import tensorflow as tf\n",
    "from tensorflow import keras\n",
    "from tensorflow.keras.preprocessing import image\n",
    "import json\n",
    "import seaborn as sns"
   ]
  },
  {
   "cell_type": "code",
   "execution_count": 5,
   "metadata": {},
   "outputs": [
    {
     "data": {
      "text/html": [
       "<div>\n",
       "<style scoped>\n",
       "    .dataframe tbody tr th:only-of-type {\n",
       "        vertical-align: middle;\n",
       "    }\n",
       "\n",
       "    .dataframe tbody tr th {\n",
       "        vertical-align: top;\n",
       "    }\n",
       "\n",
       "    .dataframe thead th {\n",
       "        text-align: right;\n",
       "    }\n",
       "</style>\n",
       "<table border=\"1\" class=\"dataframe\">\n",
       "  <thead>\n",
       "    <tr style=\"text-align: right;\">\n",
       "      <th></th>\n",
       "      <th>Unnamed: 0</th>\n",
       "      <th>id</th>\n",
       "      <th>label</th>\n",
       "      <th>text</th>\n",
       "      <th>img</th>\n",
       "    </tr>\n",
       "  </thead>\n",
       "  <tbody>\n",
       "    <tr>\n",
       "      <th>0</th>\n",
       "      <td>0</td>\n",
       "      <td>42953</td>\n",
       "      <td>0</td>\n",
       "      <td>its their character not their color that matters</td>\n",
       "      <td>barbershop book_jacket prison dumbbell panpipe</td>\n",
       "    </tr>\n",
       "    <tr>\n",
       "      <th>1</th>\n",
       "      <td>1</td>\n",
       "      <td>23058</td>\n",
       "      <td>0</td>\n",
       "      <td>don't be afraid to love again everyone is not ...</td>\n",
       "      <td>suit Windsor_tie groom bassoon academic_gown</td>\n",
       "    </tr>\n",
       "    <tr>\n",
       "      <th>2</th>\n",
       "      <td>2</td>\n",
       "      <td>13894</td>\n",
       "      <td>0</td>\n",
       "      <td>putting bows on your pet</td>\n",
       "      <td>Egyptian_cat tiger_cat tabby Siamese_cat wind...</td>\n",
       "    </tr>\n",
       "    <tr>\n",
       "      <th>3</th>\n",
       "      <td>3</td>\n",
       "      <td>37408</td>\n",
       "      <td>0</td>\n",
       "      <td>i love everything and everybody! except for sq...</td>\n",
       "      <td>Rottweiler kelpie Doberman Labrador_retriever...</td>\n",
       "    </tr>\n",
       "    <tr>\n",
       "      <th>4</th>\n",
       "      <td>4</td>\n",
       "      <td>82403</td>\n",
       "      <td>0</td>\n",
       "      <td>everybody loves chocolate chip cookies, even h...</td>\n",
       "      <td>military_uniform suit bow_tie academic_gown b...</td>\n",
       "    </tr>\n",
       "  </tbody>\n",
       "</table>\n",
       "</div>"
      ],
      "text/plain": [
       "   Unnamed: 0     id  label  \\\n",
       "0           0  42953      0   \n",
       "1           1  23058      0   \n",
       "2           2  13894      0   \n",
       "3           3  37408      0   \n",
       "4           4  82403      0   \n",
       "\n",
       "                                                text  \\\n",
       "0   its their character not their color that matters   \n",
       "1  don't be afraid to love again everyone is not ...   \n",
       "2                           putting bows on your pet   \n",
       "3  i love everything and everybody! except for sq...   \n",
       "4  everybody loves chocolate chip cookies, even h...   \n",
       "\n",
       "                                                 img  \n",
       "0     barbershop book_jacket prison dumbbell panpipe  \n",
       "1       suit Windsor_tie groom bassoon academic_gown  \n",
       "2   Egyptian_cat tiger_cat tabby Siamese_cat wind...  \n",
       "3   Rottweiler kelpie Doberman Labrador_retriever...  \n",
       "4   military_uniform suit bow_tie academic_gown b...  "
      ]
     },
     "execution_count": 5,
     "metadata": {},
     "output_type": "execute_result"
    }
   ],
   "source": [
    "# get train data\n",
    "import pandas as pd\n",
    "from tensorflow.keras.preprocessing import image\n",
    "df_train = pd.read_csv('dataset_hmc.csv')\n",
    "df_test = pd.read_csv('dataset_hmc_test.csv')\n",
    "df_train.head()"
   ]
  },
  {
   "cell_type": "code",
   "execution_count": 6,
   "metadata": {},
   "outputs": [
    {
     "data": {
      "text/html": [
       "<div>\n",
       "<style scoped>\n",
       "    .dataframe tbody tr th:only-of-type {\n",
       "        vertical-align: middle;\n",
       "    }\n",
       "\n",
       "    .dataframe tbody tr th {\n",
       "        vertical-align: top;\n",
       "    }\n",
       "\n",
       "    .dataframe thead th {\n",
       "        text-align: right;\n",
       "    }\n",
       "</style>\n",
       "<table border=\"1\" class=\"dataframe\">\n",
       "  <thead>\n",
       "    <tr style=\"text-align: right;\">\n",
       "      <th></th>\n",
       "      <th>Unnamed: 0</th>\n",
       "      <th>id</th>\n",
       "      <th>text</th>\n",
       "      <th>img</th>\n",
       "    </tr>\n",
       "  </thead>\n",
       "  <tbody>\n",
       "    <tr>\n",
       "      <th>0</th>\n",
       "      <td>0</td>\n",
       "      <td>16395</td>\n",
       "      <td>handjobs sold seperately</td>\n",
       "      <td>wig hair_spray jersey hand_blower bookshop</td>\n",
       "    </tr>\n",
       "    <tr>\n",
       "      <th>1</th>\n",
       "      <td>1</td>\n",
       "      <td>37405</td>\n",
       "      <td>introducing fidget spinner for women</td>\n",
       "      <td>washer binoculars vending_machine coffee_mug ...</td>\n",
       "    </tr>\n",
       "    <tr>\n",
       "      <th>2</th>\n",
       "      <td>2</td>\n",
       "      <td>94180</td>\n",
       "      <td>happy pride month let's go beat up lesbians</td>\n",
       "      <td>sarong maillot wig gown bathing_cap</td>\n",
       "    </tr>\n",
       "    <tr>\n",
       "      <th>3</th>\n",
       "      <td>3</td>\n",
       "      <td>54321</td>\n",
       "      <td>laughs in [majority of u.s crime rate]</td>\n",
       "      <td>comic_book Band_Aid web_site dumbbell cellula...</td>\n",
       "    </tr>\n",
       "    <tr>\n",
       "      <th>4</th>\n",
       "      <td>4</td>\n",
       "      <td>97015</td>\n",
       "      <td>finds out those 72 virgins.. are goats</td>\n",
       "      <td>barbershop bubble barber_chair neck_brace com...</td>\n",
       "    </tr>\n",
       "  </tbody>\n",
       "</table>\n",
       "</div>"
      ],
      "text/plain": [
       "   Unnamed: 0     id                                         text  \\\n",
       "0           0  16395                     handjobs sold seperately   \n",
       "1           1  37405         introducing fidget spinner for women   \n",
       "2           2  94180  happy pride month let's go beat up lesbians   \n",
       "3           3  54321       laughs in [majority of u.s crime rate]   \n",
       "4           4  97015       finds out those 72 virgins.. are goats   \n",
       "\n",
       "                                                 img  \n",
       "0         wig hair_spray jersey hand_blower bookshop  \n",
       "1   washer binoculars vending_machine coffee_mug ...  \n",
       "2                sarong maillot wig gown bathing_cap  \n",
       "3   comic_book Band_Aid web_site dumbbell cellula...  \n",
       "4   barbershop bubble barber_chair neck_brace com...  "
      ]
     },
     "execution_count": 6,
     "metadata": {},
     "output_type": "execute_result"
    }
   ],
   "source": [
    "df_test.head()"
   ]
  },
  {
   "cell_type": "code",
   "execution_count": 101,
   "metadata": {},
   "outputs": [],
   "source": [
    "import numpy as np\n",
    "from tensorflow.keras.preprocessing import image\n",
    "pd.set_option('display.max_colwidth', None)"
   ]
  },
  {
   "cell_type": "code",
   "execution_count": 8,
   "metadata": {},
   "outputs": [
    {
     "name": "stderr",
     "output_type": "stream",
     "text": [
      "C:\\Users\\ACER\\anaconda3\\lib\\site-packages\\ipykernel_launcher.py:2: SettingWithCopyWarning: \n",
      "A value is trying to be set on a copy of a slice from a DataFrame\n",
      "\n",
      "See the caveats in the documentation: https://pandas.pydata.org/pandas-docs/stable/user_guide/indexing.html#returning-a-view-versus-a-copy\n",
      "  \n"
     ]
    }
   ],
   "source": [
    "for i in range(df_train.shape[0]):\n",
    "        df_train[\"text\"][i] = df_train[\"text\"][i] + \" \" + df_train[\"img\"][1]"
   ]
  },
  {
   "cell_type": "code",
   "execution_count": 9,
   "metadata": {},
   "outputs": [
    {
     "data": {
      "text/plain": [
       "0       its their character not their color that matte...\n",
       "1       don't be afraid to love again everyone is not ...\n",
       "2       putting bows on your pet  suit Windsor_tie gro...\n",
       "3       i love everything and everybody! except for sq...\n",
       "4       everybody loves chocolate chip cookies, even h...\n",
       "                              ...                        \n",
       "8495    nobody wants to hang auschwitz me  suit Windso...\n",
       "8496    when god grants you a child after 20 years of ...\n",
       "8497    gays on social media: equality! body positivit...\n",
       "8498    having a bad day? you could be a siamese twin ...\n",
       "8499    i hate muslims too they take their religion to...\n",
       "Name: text, Length: 8500, dtype: object"
      ]
     },
     "execution_count": 9,
     "metadata": {},
     "output_type": "execute_result"
    }
   ],
   "source": [
    "df_train[\"text\"]"
   ]
  },
  {
   "cell_type": "code",
   "execution_count": 10,
   "metadata": {},
   "outputs": [
    {
     "data": {
      "text/html": [
       "<div>\n",
       "<style scoped>\n",
       "    .dataframe tbody tr th:only-of-type {\n",
       "        vertical-align: middle;\n",
       "    }\n",
       "\n",
       "    .dataframe tbody tr th {\n",
       "        vertical-align: top;\n",
       "    }\n",
       "\n",
       "    .dataframe thead th {\n",
       "        text-align: right;\n",
       "    }\n",
       "</style>\n",
       "<table border=\"1\" class=\"dataframe\">\n",
       "  <thead>\n",
       "    <tr style=\"text-align: right;\">\n",
       "      <th></th>\n",
       "      <th>Unnamed: 0</th>\n",
       "      <th>id</th>\n",
       "      <th>label</th>\n",
       "      <th>text</th>\n",
       "      <th>img</th>\n",
       "    </tr>\n",
       "  </thead>\n",
       "  <tbody>\n",
       "    <tr>\n",
       "      <th>0</th>\n",
       "      <td>0</td>\n",
       "      <td>42953</td>\n",
       "      <td>0</td>\n",
       "      <td>its their character not their color that matte...</td>\n",
       "      <td>barbershop book_jacket prison dumbbell panpipe</td>\n",
       "    </tr>\n",
       "    <tr>\n",
       "      <th>1</th>\n",
       "      <td>1</td>\n",
       "      <td>23058</td>\n",
       "      <td>0</td>\n",
       "      <td>don't be afraid to love again everyone is not ...</td>\n",
       "      <td>suit Windsor_tie groom bassoon academic_gown</td>\n",
       "    </tr>\n",
       "    <tr>\n",
       "      <th>2</th>\n",
       "      <td>2</td>\n",
       "      <td>13894</td>\n",
       "      <td>0</td>\n",
       "      <td>putting bows on your pet  suit Windsor_tie gro...</td>\n",
       "      <td>Egyptian_cat tiger_cat tabby Siamese_cat wind...</td>\n",
       "    </tr>\n",
       "    <tr>\n",
       "      <th>3</th>\n",
       "      <td>3</td>\n",
       "      <td>37408</td>\n",
       "      <td>0</td>\n",
       "      <td>i love everything and everybody! except for sq...</td>\n",
       "      <td>Rottweiler kelpie Doberman Labrador_retriever...</td>\n",
       "    </tr>\n",
       "    <tr>\n",
       "      <th>4</th>\n",
       "      <td>4</td>\n",
       "      <td>82403</td>\n",
       "      <td>0</td>\n",
       "      <td>everybody loves chocolate chip cookies, even h...</td>\n",
       "      <td>military_uniform suit bow_tie academic_gown b...</td>\n",
       "    </tr>\n",
       "  </tbody>\n",
       "</table>\n",
       "</div>"
      ],
      "text/plain": [
       "   Unnamed: 0     id  label  \\\n",
       "0           0  42953      0   \n",
       "1           1  23058      0   \n",
       "2           2  13894      0   \n",
       "3           3  37408      0   \n",
       "4           4  82403      0   \n",
       "\n",
       "                                                text  \\\n",
       "0  its their character not their color that matte...   \n",
       "1  don't be afraid to love again everyone is not ...   \n",
       "2  putting bows on your pet  suit Windsor_tie gro...   \n",
       "3  i love everything and everybody! except for sq...   \n",
       "4  everybody loves chocolate chip cookies, even h...   \n",
       "\n",
       "                                                 img  \n",
       "0     barbershop book_jacket prison dumbbell panpipe  \n",
       "1       suit Windsor_tie groom bassoon academic_gown  \n",
       "2   Egyptian_cat tiger_cat tabby Siamese_cat wind...  \n",
       "3   Rottweiler kelpie Doberman Labrador_retriever...  \n",
       "4   military_uniform suit bow_tie academic_gown b...  "
      ]
     },
     "execution_count": 10,
     "metadata": {},
     "output_type": "execute_result"
    }
   ],
   "source": [
    "df_train.head()"
   ]
  },
  {
   "cell_type": "code",
   "execution_count": 11,
   "metadata": {},
   "outputs": [
    {
     "name": "stdout",
     "output_type": "stream",
     "text": [
      "Valid: 63\n",
      "Train: 7225\n"
     ]
    }
   ],
   "source": [
    "# train valid split on initial training set\n",
    "from sklearn.model_selection import train_test_split\n",
    "\n",
    "y = df_train['label']\n",
    "df_train, df_test = train_test_split(df_train, test_size=0.15, random_state=42, stratify=y) # stratify is used because dataset is imbalanced it is used to dataset is split into equal rows of each classes\n",
    "y = df_test['label']\n",
    "df_val, df_test = train_test_split(df_test, test_size=0.95, random_state=42, stratify=y)\n",
    "del y\n",
    "\n",
    "print('Valid:', df_val.shape[0])\n",
    "print('Train:', df_train.shape[0])"
   ]
  },
  {
   "cell_type": "code",
   "execution_count": 12,
   "metadata": {},
   "outputs": [
    {
     "name": "stdout",
     "output_type": "stream",
     "text": [
      "don't be afraid to love again everyone is not like your ex  suit Windsor_tie groom bassoon academic_gown\n"
     ]
    }
   ],
   "source": [
    "print(df_train[\"text\"][1])"
   ]
  },
  {
   "cell_type": "code",
   "execution_count": 13,
   "metadata": {},
   "outputs": [],
   "source": [
    "#!pip install inflect"
   ]
  },
  {
   "cell_type": "code",
   "execution_count": 14,
   "metadata": {},
   "outputs": [],
   "source": [
    "#conda install -c conda-forge inflect"
   ]
  },
  {
   "cell_type": "code",
   "execution_count": 15,
   "metadata": {},
   "outputs": [],
   "source": [
    "import os\n",
    "import re, string, unicodedata\n",
    "import nltk\n",
    "import inflect\n",
    "from nltk import word_tokenize, sent_tokenize\n",
    "from nltk.corpus import stopwords\n",
    "from nltk.stem import LancasterStemmer, WordNetLemmatizer\n",
    "\n",
    "from PIL import ImageFile\n",
    "ImageFile.LOAD_TRUNCATED_IMAGES = True\n",
    "\n",
    "#nltk.download('punkt')\n",
    "#nltk.download('stopwords')\n",
    "#nltk.download('wordnet')"
   ]
  },
  {
   "cell_type": "code",
   "execution_count": 16,
   "metadata": {},
   "outputs": [
    {
     "data": {
      "image/png": "[encoded data removed]",
      "text/plain": [
       "<Figure size 1600x800 with 1 Axes>"
      ]
     },
     "metadata": {
      "needs_background": "light"
     },
     "output_type": "display_data"
    }
   ],
   "source": [
    "# Word length distribution in train set before preprocessing\n",
    "from collections import Counter\n",
    "import matplotlib.pyplot as plt\n",
    "\n",
    "lengths = []\n",
    "for text in df_train.text:\n",
    "    lengths.append(len(text))\n",
    "c = Counter(lengths)\n",
    "plt.figure(figsize=(20, 10), dpi=80)\n",
    "plt.bar([i for i in c.keys()], c.values())\n",
    "plt.title('Number of Words in a Sentence before Pre Processing',size=24)\n",
    "plt.xlabel('Count of words',size=22)\n",
    "plt.ylabel('Number of sentences',size=22)\n",
    "plt.show()"
   ]
  },
  {
   "cell_type": "code",
   "execution_count": 17,
   "metadata": {},
   "outputs": [],
   "source": [
    "# Without Preprocessing\n",
    "\n",
    "df_train['text_cleaned'] = df_train['text']\n",
    "df_test['text_cleaned'] = df_test['text']\n",
    "df_val['text_cleaned'] = df_val['text']"
   ]
  },
  {
   "cell_type": "code",
   "execution_count": 18,
   "metadata": {},
   "outputs": [
    {
     "data": {
      "text/html": [
       "<div>\n",
       "<style scoped>\n",
       "    .dataframe tbody tr th:only-of-type {\n",
       "        vertical-align: middle;\n",
       "    }\n",
       "\n",
       "    .dataframe tbody tr th {\n",
       "        vertical-align: top;\n",
       "    }\n",
       "\n",
       "    .dataframe thead th {\n",
       "        text-align: right;\n",
       "    }\n",
       "</style>\n",
       "<table border=\"1\" class=\"dataframe\">\n",
       "  <thead>\n",
       "    <tr style=\"text-align: right;\">\n",
       "      <th></th>\n",
       "      <th>Unnamed: 0</th>\n",
       "      <th>id</th>\n",
       "      <th>label</th>\n",
       "      <th>text</th>\n",
       "      <th>img</th>\n",
       "      <th>text_cleaned</th>\n",
       "    </tr>\n",
       "  </thead>\n",
       "  <tbody>\n",
       "    <tr>\n",
       "      <th>1856</th>\n",
       "      <td>1856</td>\n",
       "      <td>56938</td>\n",
       "      <td>0</td>\n",
       "      <td>anne frank passed away february 1945  suit Win...</td>\n",
       "      <td>book_jacket pajama bookshop comic_book theate...</td>\n",
       "      <td>anne frank passed away february 1945  suit Win...</td>\n",
       "    </tr>\n",
       "    <tr>\n",
       "      <th>542</th>\n",
       "      <td>542</td>\n",
       "      <td>51734</td>\n",
       "      <td>1</td>\n",
       "      <td>when you're shooting up the school and the cop...</td>\n",
       "      <td>cup coffee_mug pencil_sharpener toyshop slot</td>\n",
       "      <td>when you're shooting up the school and the cop...</td>\n",
       "    </tr>\n",
       "    <tr>\n",
       "      <th>4798</th>\n",
       "      <td>4798</td>\n",
       "      <td>69534</td>\n",
       "      <td>0</td>\n",
       "      <td>once you go black you deserve it  suit Windsor...</td>\n",
       "      <td>quill lab_coat library restaurant crossword_p...</td>\n",
       "      <td>once you go black you deserve it  suit Windsor...</td>\n",
       "    </tr>\n",
       "    <tr>\n",
       "      <th>4232</th>\n",
       "      <td>4232</td>\n",
       "      <td>56741</td>\n",
       "      <td>0</td>\n",
       "      <td>any girls a squirter if you sever an artery  s...</td>\n",
       "      <td>book_jacket suit Loafer jean dingo</td>\n",
       "      <td>any girls a squirter if you sever an artery  s...</td>\n",
       "    </tr>\n",
       "    <tr>\n",
       "      <th>2784</th>\n",
       "      <td>2784</td>\n",
       "      <td>25097</td>\n",
       "      <td>1</td>\n",
       "      <td>damn chewbacca ewoks are our friends  suit Win...</td>\n",
       "      <td>cellular_telephone hand-held_computer digital...</td>\n",
       "      <td>damn chewbacca ewoks are our friends  suit Win...</td>\n",
       "    </tr>\n",
       "  </tbody>\n",
       "</table>\n",
       "</div>"
      ],
      "text/plain": [
       "      Unnamed: 0     id  label  \\\n",
       "1856        1856  56938      0   \n",
       "542          542  51734      1   \n",
       "4798        4798  69534      0   \n",
       "4232        4232  56741      0   \n",
       "2784        2784  25097      1   \n",
       "\n",
       "                                                   text  \\\n",
       "1856  anne frank passed away february 1945  suit Win...   \n",
       "542   when you're shooting up the school and the cop...   \n",
       "4798  once you go black you deserve it  suit Windsor...   \n",
       "4232  any girls a squirter if you sever an artery  s...   \n",
       "2784  damn chewbacca ewoks are our friends  suit Win...   \n",
       "\n",
       "                                                    img  \\\n",
       "1856   book_jacket pajama bookshop comic_book theate...   \n",
       "542        cup coffee_mug pencil_sharpener toyshop slot   \n",
       "4798   quill lab_coat library restaurant crossword_p...   \n",
       "4232                 book_jacket suit Loafer jean dingo   \n",
       "2784   cellular_telephone hand-held_computer digital...   \n",
       "\n",
       "                                           text_cleaned  \n",
       "1856  anne frank passed away february 1945  suit Win...  \n",
       "542   when you're shooting up the school and the cop...  \n",
       "4798  once you go black you deserve it  suit Windsor...  \n",
       "4232  any girls a squirter if you sever an artery  s...  \n",
       "2784  damn chewbacca ewoks are our friends  suit Win...  "
      ]
     },
     "execution_count": 18,
     "metadata": {},
     "output_type": "execute_result"
    }
   ],
   "source": [
    "df_train.head()"
   ]
  },
  {
   "cell_type": "code",
   "execution_count": 19,
   "metadata": {},
   "outputs": [],
   "source": [
    "from sklearn.model_selection import train_test_split\n",
    "from sklearn.linear_model import LogisticRegression\n",
    "from sklearn.model_selection import GridSearchCV\n",
    "from sklearn.model_selection import cross_val_score\n",
    "import torch\n",
    "# import transformers as ppb\n",
    "import warnings\n",
    "warnings.filterwarnings('ignore')"
   ]
  },
  {
   "cell_type": "code",
   "execution_count": 20,
   "metadata": {},
   "outputs": [],
   "source": [
    "#!pip install transformers"
   ]
  },
  {
   "cell_type": "code",
   "execution_count": 21,
   "metadata": {},
   "outputs": [],
   "source": [
    "import transformers as ppb"
   ]
  },
  {
   "cell_type": "code",
   "execution_count": 22,
   "metadata": {},
   "outputs": [],
   "source": [
    "#pip install --upgrade torch"
   ]
  },
  {
   "cell_type": "code",
   "execution_count": 23,
   "metadata": {},
   "outputs": [
    {
     "name": "stderr",
     "output_type": "stream",
     "text": [
      "Some weights of the model checkpoint at bert-base-uncased were not used when initializing BertModel: ['cls.predictions.transform.LayerNorm.bias', 'cls.predictions.decoder.weight', 'cls.predictions.transform.LayerNorm.weight', 'cls.predictions.transform.dense.weight', 'cls.seq_relationship.weight', 'cls.predictions.transform.dense.bias', 'cls.predictions.bias', 'cls.seq_relationship.bias']\n",
      "- This IS expected if you are initializing BertModel from the checkpoint of a model trained on another task or with another architecture (e.g. initializing a BertForSequenceClassification model from a BertForPreTraining model).\n",
      "- This IS NOT expected if you are initializing BertModel from the checkpoint of a model that you expect to be exactly identical (initializing a BertForSequenceClassification model from a BertForSequenceClassification model).\n"
     ]
    }
   ],
   "source": [
    "# For DistilBERT:\n",
    "# model_class, tokenizer_class, pretrained_weights = (ppb.DistilBertModel, ppb.DistilBertTokenizer, 'distilbert-base-uncased')\n",
    "\n",
    "## for BERT \n",
    "model_class, tokenizer_class, pretrained_weights = (ppb.BertModel, ppb.BertTokenizer, 'bert-base-uncased')\n",
    "\n",
    "# Load pretrained model/tokenizer\n",
    "tokenizer = tokenizer_class.from_pretrained(pretrained_weights) #tokenizer form hugging face\n",
    "bert_model = model_class.from_pretrained(pretrained_weights)# take  all previsous layers hidden or o/p"
   ]
  },
  {
   "cell_type": "code",
   "execution_count": 24,
   "metadata": {},
   "outputs": [
    {
     "name": "stdout",
     "output_type": "stream",
     "text": [
      "label\n",
      "0    4632\n",
      "1    2593\n",
      "dtype: int64\n"
     ]
    }
   ],
   "source": [
    " print(df_train.groupby('label').size())"
   ]
  },
  {
   "cell_type": "code",
   "execution_count": 25,
   "metadata": {},
   "outputs": [
    {
     "name": "stdout",
     "output_type": "stream",
     "text": [
      "label\n",
      "0    778\n",
      "1    434\n",
      "dtype: int64\n"
     ]
    }
   ],
   "source": [
    " print(df_test.groupby('label').size())"
   ]
  },
  {
   "cell_type": "code",
   "execution_count": 26,
   "metadata": {},
   "outputs": [],
   "source": [
    "tokenize = tokenizer_class.from_pretrained(pretrained_weights)\n",
    "tokenized = df_train['text_cleaned'].apply((lambda x: tokenize.encode(str(x), add_special_tokens=True))) "
   ]
  },
  {
   "cell_type": "code",
   "execution_count": 27,
   "metadata": {},
   "outputs": [
    {
     "data": {
      "text/plain": [
       "98"
      ]
     },
     "execution_count": 27,
     "metadata": {},
     "output_type": "execute_result"
    }
   ],
   "source": [
    "# Finding max word length\n",
    "\n",
    "max_len = 0\n",
    "for i in tokenized.values:\n",
    "    if len(i) > max_len:\n",
    "        max_len = len(i)\n",
    "max_len"
   ]
  },
  {
   "cell_type": "code",
   "execution_count": 28,
   "metadata": {},
   "outputs": [],
   "source": [
    "train_features = np.array([[]])\n",
    "test_features = np.array([[]])\n",
    "train_labels = np.array([])\n",
    "test_labels = np.array([])"
   ]
  },
  {
   "cell_type": "code",
   "execution_count": 29,
   "metadata": {},
   "outputs": [
    {
     "name": "stdout",
     "output_type": "stream",
     "text": [
      "(900, 768)\n",
      "(225, 768)\n",
      "(900,)\n",
      "(225,)\n",
      "(1800, 768)\n",
      "(450, 768)\n",
      "(1800,)\n",
      "(450,)\n",
      "(2700, 768)\n",
      "(675, 768)\n",
      "(2700,)\n",
      "(675,)\n",
      "(3600, 768)\n",
      "(900, 768)\n",
      "(3600,)\n",
      "(900,)\n",
      "(4500, 768)\n",
      "(1125, 768)\n",
      "(4500,)\n",
      "(1125,)\n",
      "(5400, 768)\n",
      "(1350, 768)\n",
      "(5400,)\n",
      "(1350,)\n",
      "(5780, 768)\n",
      "(1445, 768)\n",
      "(5780,)\n",
      "(1445,)\n"
     ]
    }
   ],
   "source": [
    "BATCH_SIZE = 1125\n",
    "\n",
    "for i in range(0, len(df_train), BATCH_SIZE):\n",
    "\n",
    "    df = df_train[ i : i+BATCH_SIZE ]\n",
    "\n",
    "    # Tokenization and converting (encode) in numerical and add ClS to find begnning of line\n",
    "    tokenized = df['text_cleaned'].apply((lambda x: tokenize.encode(str(x), add_special_tokens=True)))\n",
    "\n",
    "    # Append zeros for padding (because require same shape and same length for better efficency\n",
    "    padded = np.array([i + [0]*(max_len-len(i)) for i in tokenized.values])\n",
    "\n",
    "    # Extract Attention Masks(tell which token to ignore and to process in form of 0 and 1 for bert model)\n",
    "    attention_mask = np.where(padded != 0, 1, 0)\n",
    "\n",
    "    # Here we just convert the data to tensors\n",
    "    input_ids = torch.tensor(padded)  \n",
    "    attention_mask = torch.tensor(attention_mask)\n",
    "\n",
    "    # no gradient while forwarding propagation\n",
    "    with torch.no_grad():\n",
    "        last_hidden_states = bert_model(input_ids, attention_mask=attention_mask)\n",
    "\n",
    "    # Extracting features of the CLS tokens\n",
    "    features = last_hidden_states[0][:,0,:].numpy()\n",
    "\n",
    "    # Extracting Labels\n",
    "    labels = df['label'].values\n",
    "    labels[labels>0] = 1\n",
    "\n",
    "    # Test Train Split\n",
    "    train_features_2, test_features_2, train_labels_2, test_labels_2 = train_test_split(features, labels, train_size=0.80)\n",
    "\n",
    "    # Appending the data to the main arrays\n",
    "    if len(train_labels) == 0 :\n",
    "        train_features = train_features_2\n",
    "        test_features = test_features_2\n",
    "        train_labels = train_labels_2\n",
    "        test_labels = test_labels_2\n",
    "    else:\n",
    "        train_features = np.concatenate((train_features,train_features_2))\n",
    "        test_features = np.concatenate((test_features,test_features_2))\n",
    "        train_labels = np.concatenate((train_labels,train_labels_2))\n",
    "        test_labels = np.concatenate((test_labels,test_labels_2))\n",
    "    print(train_features.shape)\n",
    "    print(test_features.shape)\n",
    "    print(train_labels.shape)\n",
    "    print(test_labels.shape)"
   ]
  },
  {
   "cell_type": "code",
   "execution_count": 30,
   "metadata": {},
   "outputs": [
    {
     "data": {
      "text/plain": [
       "BaseModelOutputWithPoolingAndCrossAttentions(last_hidden_state=tensor([[[-1.2083e-01,  2.5280e-01, -1.5992e-01,  ..., -4.5361e-01,\n",
       "           3.3957e-01,  2.0007e-01],\n",
       "         [ 1.0855e+00,  6.3546e-01, -4.6836e-01,  ..., -5.7752e-01,\n",
       "           7.7785e-01, -6.3170e-01],\n",
       "         [ 9.2344e-01,  2.8790e-02,  1.9433e-01,  ..., -4.5141e-01,\n",
       "           3.9961e-01, -3.5499e-01],\n",
       "         ...,\n",
       "         [ 1.8418e-01,  9.7631e-02,  3.2948e-01,  ..., -4.9974e-01,\n",
       "          -5.3036e-02, -3.8704e-02],\n",
       "         [ 1.9814e-01,  5.5020e-02,  3.0089e-01,  ..., -5.9427e-01,\n",
       "          -5.3371e-02, -1.4859e-02],\n",
       "         [ 1.0874e-01, -6.6596e-03,  3.3085e-01,  ..., -5.3570e-01,\n",
       "          -9.7332e-02, -4.9068e-03]],\n",
       "\n",
       "        [[-1.2264e-01,  1.5454e-01,  6.4965e-02,  ..., -4.5976e-01,\n",
       "           1.8393e-01,  3.4176e-01],\n",
       "         [ 1.5211e-01, -1.6466e-01,  2.2399e-01,  ..., -5.1684e-01,\n",
       "          -1.2956e-01, -8.7190e-02],\n",
       "         [ 2.6497e-02, -5.5498e-01,  5.3476e-01,  ..., -5.0181e-01,\n",
       "          -4.5724e-01,  3.1203e-01],\n",
       "         ...,\n",
       "         [ 1.7068e-01,  7.4164e-02,  4.9628e-01,  ..., -1.9153e-01,\n",
       "          -1.8951e-01, -1.2636e-01],\n",
       "         [ 1.3215e-01,  3.7159e-02,  4.6741e-01,  ..., -3.0829e-01,\n",
       "          -1.0269e-01, -7.1476e-02],\n",
       "         [ 9.3240e-02,  1.5475e-02,  5.0628e-01,  ..., -3.0073e-01,\n",
       "           4.7026e-03, -3.6152e-02]],\n",
       "\n",
       "        [[-1.1535e-01, -4.3072e-03,  2.9885e-02,  ..., -3.7117e-01,\n",
       "          -7.3421e-02,  8.6156e-02],\n",
       "         [-8.4374e-01,  5.1301e-01,  4.0074e-01,  ..., -2.2327e-01,\n",
       "          -2.7136e-01, -6.9716e-02],\n",
       "         [-5.7171e-01, -2.4034e-01,  5.4906e-01,  ..., -4.4417e-01,\n",
       "          -1.4384e-01, -1.9320e-01],\n",
       "         ...,\n",
       "         [ 1.8326e-01, -2.4828e-02,  4.6364e-01,  ..., -4.3204e-01,\n",
       "           1.3224e-01, -5.0700e-02],\n",
       "         [ 6.6841e-02, -1.2678e-01,  2.9272e-01,  ..., -3.8933e-01,\n",
       "          -1.6625e-01,  7.4735e-02],\n",
       "         [-1.2579e-02, -1.8442e-02,  2.4510e-01,  ..., -4.5604e-01,\n",
       "          -1.3877e-01,  1.3152e-01]],\n",
       "\n",
       "        ...,\n",
       "\n",
       "        [[-7.1125e-02,  8.7231e-03,  7.2221e-03,  ..., -2.5759e-01,\n",
       "           1.0805e-01,  3.8516e-01],\n",
       "         [-1.1372e+00,  4.4883e-01,  2.7705e-01,  ..., -5.7642e-01,\n",
       "          -3.1138e-01,  1.2809e-01],\n",
       "         [-7.5294e-01,  1.2999e-01, -1.7174e-01,  ..., -2.5412e-01,\n",
       "           8.1061e-02,  1.4015e-01],\n",
       "         ...,\n",
       "         [-1.8697e-01, -5.9608e-01, -2.1313e-01,  ..., -1.8687e-01,\n",
       "           3.1986e-04, -1.3315e-01],\n",
       "         [-1.7688e-01,  5.2817e-02,  5.6473e-01,  ..., -1.6734e-01,\n",
       "          -6.2694e-02, -1.2826e-01],\n",
       "         [-3.1170e-02,  2.0408e-01,  4.2865e-01,  ..., -1.8965e-01,\n",
       "          -2.9432e-02, -6.1730e-02]],\n",
       "\n",
       "        [[-2.3971e-01,  7.9720e-02,  6.3980e-02,  ..., -2.8119e-01,\n",
       "           1.8982e-01,  2.9250e-01],\n",
       "         [-1.5911e-01, -1.2223e-01,  1.0658e+00,  ..., -2.7939e-01,\n",
       "           2.1916e-01,  1.2197e-01],\n",
       "         [-3.5155e-01, -7.7074e-02,  5.7530e-01,  ...,  1.5284e-01,\n",
       "           7.5150e-01,  2.3935e-01],\n",
       "         ...,\n",
       "         [ 6.1032e-02,  1.9982e-01,  3.3007e-01,  ..., -3.1170e-01,\n",
       "          -8.7938e-03, -8.7609e-02],\n",
       "         [ 6.2374e-02,  2.2073e-01,  3.7261e-01,  ..., -3.9681e-01,\n",
       "           3.7568e-02, -3.7476e-02],\n",
       "         [ 2.0985e-01,  1.4808e-01,  5.6128e-01,  ..., -3.4789e-01,\n",
       "           2.5816e-01, -3.8359e-02]],\n",
       "\n",
       "        [[-2.9976e-01,  8.2330e-02, -3.5486e-01,  ..., -4.2037e-01,\n",
       "           1.3308e-01,  4.5059e-01],\n",
       "         [ 4.3797e-01,  1.7140e-01, -1.4181e-01,  ...,  3.0857e-01,\n",
       "           6.9429e-01,  1.6249e-02],\n",
       "         [ 4.9537e-01,  3.6937e-02,  7.3436e-02,  ..., -2.7404e-01,\n",
       "           1.3403e-01,  5.4282e-02],\n",
       "         ...,\n",
       "         [ 1.0348e-01,  1.0482e-01,  2.1874e-01,  ..., -4.9218e-01,\n",
       "          -1.4081e-01,  4.8660e-02],\n",
       "         [ 2.1330e-01,  4.8541e-02,  3.1268e-01,  ..., -3.4467e-01,\n",
       "          -6.1798e-03,  6.7283e-02],\n",
       "         [ 2.7665e-01,  3.3206e-03,  3.9757e-01,  ..., -2.5761e-01,\n",
       "           1.4962e-02,  9.0197e-02]]]), pooler_output=tensor([[-0.7418, -0.5504, -0.9164,  ..., -0.7084, -0.7213,  0.6643],\n",
       "        [-0.8064, -0.4267, -0.6267,  ..., -0.4342, -0.6661,  0.8089],\n",
       "        [-0.8234, -0.3217, -0.3100,  ..., -0.0494, -0.6541,  0.8410],\n",
       "        ...,\n",
       "        [-0.8231, -0.3278, -0.2923,  ..., -0.1427, -0.5763,  0.8383],\n",
       "        [-0.7820, -0.3721, -0.5784,  ..., -0.1587, -0.6472,  0.8060],\n",
       "        [-0.8400, -0.5674, -0.9125,  ..., -0.7316, -0.7256,  0.8166]]), hidden_states=None, past_key_values=None, attentions=None, cross_attentions=None)"
      ]
     },
     "execution_count": 30,
     "metadata": {},
     "output_type": "execute_result"
    }
   ],
   "source": [
    "last_hidden_states"
   ]
  },
  {
   "cell_type": "code",
   "execution_count": 31,
   "metadata": {},
   "outputs": [
    {
     "data": {
      "text/plain": [
       "array([[-0.12082504,  0.252804  , -0.15992258, ..., -0.4536092 ,\n",
       "         0.33956665,  0.20007336],\n",
       "       [-0.12264464,  0.15453985,  0.06496531, ..., -0.4597603 ,\n",
       "         0.18392542,  0.34175682],\n",
       "       [-0.1153533 , -0.00430722,  0.02988526, ..., -0.37116805,\n",
       "        -0.07342135,  0.08615599],\n",
       "       ...,\n",
       "       [-0.07112505,  0.0087231 ,  0.0072221 , ..., -0.25759393,\n",
       "         0.10804518,  0.3851583 ],\n",
       "       [-0.23970556,  0.07971995,  0.06398001, ..., -0.2811936 ,\n",
       "         0.18982455,  0.29249913],\n",
       "       [-0.2997635 ,  0.08232988, -0.35485753, ..., -0.4203696 ,\n",
       "         0.13307743,  0.45058644]], dtype=float32)"
      ]
     },
     "execution_count": 31,
     "metadata": {},
     "output_type": "execute_result"
    }
   ],
   "source": [
    "features"
   ]
  },
  {
   "cell_type": "code",
   "execution_count": 32,
   "metadata": {},
   "outputs": [],
   "source": [
    "from sklearn.metrics import roc_curve\n",
    "from sklearn.metrics import roc_auc_score\n",
    "import matplotlib\n",
    "import matplotlib.pyplot as plt\n",
    "from sklearn.metrics import confusion_matrix, classification_report\n",
    "from sklearn.model_selection import RandomizedSearchCV\n",
    "from sklearn.svm import SVC\n",
    "plt.style.use('seaborn')"
   ]
  },
  {
   "cell_type": "code",
   "execution_count": 33,
   "metadata": {},
   "outputs": [],
   "source": [
    "def print_metrices(cm):\n",
    "    cm = np.array(cm, dtype=np.float)\n",
    "    class_names = ['Not Hateful','Hateful']\n",
    "    matplotlib.rcParams.update({'font.size': 20})\n",
    "    plt.xlabel(\"Actual Value\", fontsize=18)\n",
    "    plt.ylabel('Predicted Value', fontsize=18)\n",
    "    matplotlib.rcParams.update({'xtick.labelsize': 16})\n",
    "    matplotlib.rcParams.update({'ytick.labelsize': 16})\n",
    "    ax = sns.heatmap(cm,annot = True,xticklabels=class_names, yticklabels=class_names, cmap=\"YlGnBu\", fmt='g')\n",
    "    ax.set(xlabel='True Values', ylabel='Predicted Values')\n",
    "    plt.show()"
   ]
  },
  {
   "cell_type": "code",
   "execution_count": 34,
   "metadata": {},
   "outputs": [
    {
     "name": "stdout",
     "output_type": "stream",
     "text": [
      "best parameters:  {'C': 0.01}\n",
      "best scores:  0.6958477508650519\n"
     ]
    }
   ],
   "source": [
    "parameters = {'C': np.linspace(0.01, 0.1, 1)}\n",
    "grid_search = GridSearchCV(LogisticRegression(), parameters)\n",
    "grid_search.fit(train_features, train_labels)\n",
    "\n",
    "print('best parameters: ', grid_search.best_params_)\n",
    "print('best scores: ', grid_search.best_score_)"
   ]
  },
  {
   "cell_type": "code",
   "execution_count": 35,
   "metadata": {},
   "outputs": [
    {
     "data": {
      "text/plain": [
       "array([-4.06914979e-01,  5.41086718e-02,  1.05161533e-01, -4.00826037e-01,\n",
       "        1.71939954e-02, -1.03694707e-01,  2.52143025e-01,  1.34384498e-01,\n",
       "       -2.66467780e-01, -4.08681110e-02, -2.31195278e-02, -4.09738049e-02,\n",
       "        3.02528858e-01,  6.35350049e-02, -5.38065471e-02,  4.15823162e-01,\n",
       "       -2.75826395e-01,  5.44641554e-01,  2.50211239e-01, -1.93434000e-01,\n",
       "       -4.22539473e-01, -7.58114338e-01,  1.27576098e-01,  1.53138906e-01,\n",
       "        2.54757196e-01, -3.47958505e-01, -3.04366220e-02,  1.79245681e-01,\n",
       "       -3.51811647e-02, -6.48044795e-02,  2.40067765e-01,  1.30364001e-02,\n",
       "        3.78940523e-01, -8.84242132e-02,  4.57266986e-01, -3.07052016e-01,\n",
       "        5.04447281e-01, -5.67349494e-01,  4.12024707e-01, -1.41347706e-01,\n",
       "       -2.85086900e-01,  1.14004508e-01,  8.80946994e-01, -3.32812876e-01,\n",
       "        1.57855421e-01, -1.99877322e-01, -2.62939310e+00,  7.63740507e-04,\n",
       "        1.76507637e-01, -7.12177455e-02,  4.03278172e-01, -2.46489525e-01,\n",
       "        7.84898773e-02,  3.02291960e-01,  4.06604052e-01,  3.30458611e-01,\n",
       "       -2.57231534e-01,  4.47640508e-01,  3.51260930e-01,  6.31163418e-02,\n",
       "        2.18501836e-01, -1.62336722e-01, -3.56658280e-01,  1.73344910e-02,\n",
       "        6.27617389e-02,  3.28782678e-01, -1.53201252e-01,  9.49870646e-02,\n",
       "       -3.58862698e-01,  4.07520920e-01, -4.44087148e-01,  3.03754777e-01,\n",
       "        3.60486805e-01, -8.88147652e-02, -4.97673638e-04, -1.51396006e-01,\n",
       "        3.91161814e-03,  3.12125757e-02, -8.37687403e-02, -1.89823240e-01,\n",
       "        9.00919512e-02,  1.76003203e-02, -1.97985712e-02,  9.04270858e-02,\n",
       "        2.95811623e-01,  2.74271011e-01, -8.50575045e-02, -2.35983342e-01,\n",
       "        2.58943886e-01,  5.16140163e-01,  2.99713135e-01,  1.54243529e-01,\n",
       "       -3.22624408e-02,  4.32481349e-01,  3.74683172e-01,  6.75063580e-02,\n",
       "        1.43087864e-01,  1.63465291e-01,  3.51932913e-01,  1.04870819e-01,\n",
       "       -3.36303651e-01, -2.86862217e-02,  2.75965810e-01, -3.43787998e-01,\n",
       "        3.05715799e-01,  3.22679467e-02,  5.51078916e-02,  4.78583463e-02,\n",
       "        3.51269096e-01, -2.58950520e+00,  5.36624134e-01,  1.35539010e-01,\n",
       "        1.38057828e-01, -5.44708073e-02, -1.58382118e-01,  5.61268866e-01,\n",
       "        6.62059069e-01, -6.52828962e-02, -5.81751019e-02,  1.17294200e-01,\n",
       "       -1.52037024e-01,  4.36552972e-01, -1.41137064e-01, -2.91711718e-01,\n",
       "       -2.15597376e-01,  4.39374030e-01,  1.37254879e-01,  1.90592617e-01,\n",
       "        2.95695156e-01,  1.74722821e-01,  1.25810876e-03,  5.55711031e-01,\n",
       "       -3.66889201e-02, -1.56594440e-03, -4.53285009e-01,  2.85148889e-01,\n",
       "        4.55141902e-01,  1.91804860e-02,  5.27324788e-02,  2.75488347e-01,\n",
       "       -7.91181266e-01, -5.76981723e-01, -2.69160795e+00,  1.00441150e-01,\n",
       "        8.23313832e-01, -1.68044329e-01, -1.39175147e-01,  5.64691961e-01,\n",
       "       -2.45378539e-01,  5.28179526e-01,  2.49791160e-01,  1.59697816e-01,\n",
       "       -2.48724833e-01,  4.05290067e-01, -3.44062477e-01, -3.23300064e-03,\n",
       "        1.12782441e-01, -6.36586905e-01,  2.00739592e-01,  7.66171515e-02,\n",
       "        2.69466519e-01,  2.96594381e-01, -7.82931149e-02,  1.14998579e-01,\n",
       "       -1.79764882e-01,  2.24959791e-01, -2.70440817e-01,  3.45596641e-01,\n",
       "       -3.58213007e-01,  2.07175463e-01, -1.02519482e-01,  4.29758668e-01,\n",
       "        3.93724620e-01, -1.89926133e-01,  1.67199567e-01,  9.59954411e-03,\n",
       "       -2.49701798e-01,  8.93530995e-02,  1.39006689e-01,  3.88297766e-01,\n",
       "       -9.94920731e-02,  5.12004197e-01,  2.36171365e-01,  5.27018070e-01,\n",
       "       -6.81433827e-02,  5.04315384e-02, -6.71280175e-02,  3.06409709e-02,\n",
       "        1.60851911e-01, -4.86624449e-01, -7.78182298e-02, -4.16907936e-01,\n",
       "        2.28607759e-01,  2.85277426e-01,  5.25577545e-01,  2.88540930e-01,\n",
       "        4.43619877e-01, -6.02162898e-01, -6.69275373e-02,  3.28473002e-01,\n",
       "        4.48683500e-01,  4.00754243e-01, -1.39816388e-01,  2.20701352e-01,\n",
       "       -5.31351745e-01,  3.55962658e+00,  1.10197067e-01, -5.39902568e-01,\n",
       "       -1.37197495e-01,  1.55172288e-01,  1.31668717e-01, -1.57493860e-01,\n",
       "       -4.02512133e-01, -3.77512991e-01,  1.65273845e-01,  5.12182452e-02,\n",
       "        2.04917639e-01, -1.44913435e-01, -5.03458917e-01, -1.22967802e-01,\n",
       "        3.88073958e-02,  3.42336923e-01, -3.62288266e-01,  2.27484688e-01,\n",
       "       -7.79145211e-03, -2.88772225e-01, -1.56459808e-01,  1.37755126e-01,\n",
       "       -2.79244214e-01, -1.30269420e+00,  2.72506028e-01, -3.69019687e-01,\n",
       "       -3.08138877e-01,  3.98939371e-01, -2.86250621e-01, -2.67202467e-01,\n",
       "        1.89408168e-01, -7.01896846e-04,  4.17172849e-01,  2.61295915e-01,\n",
       "       -2.77664363e-01,  3.75445962e-01,  7.15492740e-02, -8.94202441e-02,\n",
       "       -2.00949952e-01,  2.16603070e-01,  5.69150388e-01, -2.02887468e-02,\n",
       "        1.72192693e-01,  2.79033855e-02,  7.61888564e-01, -5.88173270e-01,\n",
       "        5.31234324e-01, -6.44574046e-01, -7.41069615e-02, -3.70441936e-02,\n",
       "        2.56582618e-01,  2.15316474e-01, -2.50141680e-01,  3.92253809e-02,\n",
       "       -2.63926506e-01,  2.54195809e-01,  3.26278359e-01, -5.79040200e-02,\n",
       "       -3.43024582e-01, -1.52423307e-01, -1.39745608e-01, -3.13151032e-01,\n",
       "        3.59607339e-01, -2.33158439e-01, -4.45700437e-02, -2.34195977e-01,\n",
       "       -5.62799215e-01, -3.65360689e+00, -2.08554760e-01,  1.05769202e-01,\n",
       "        7.80998588e-01,  6.49046361e-01, -4.00135338e-01,  1.27674341e-01,\n",
       "        2.61657119e-01,  3.24198991e-01, -2.85902739e-01,  3.94107521e-01,\n",
       "       -2.58421689e-01, -3.06333452e-02,  1.31293386e-01, -2.58284986e-01,\n",
       "        3.30162138e-01,  1.85630515e-01,  3.58884692e-01,  2.03464255e-01,\n",
       "        3.98582876e-01,  1.44286081e-01,  2.32715636e-01, -2.45251328e-01,\n",
       "        1.33344218e-01,  3.08991134e-01,  1.21670350e-01, -4.01701361e-01,\n",
       "       -3.12126487e-01,  1.94751710e-01, -2.24508628e-01,  1.76930219e-01,\n",
       "       -2.21302673e-01,  1.13803588e-01, -4.90586042e-01, -6.03104293e-01,\n",
       "       -3.44680405e+00,  4.06874210e-01, -9.15259868e-02, -3.52295414e-02,\n",
       "       -9.94793698e-02, -3.28974932e-01,  7.94514120e-01,  1.21936038e-01,\n",
       "       -3.75121087e-01,  3.77737880e-02,  5.38010895e-02,  1.35334447e-01,\n",
       "        2.44530320e-01,  3.67669053e-02,  2.94381976e-01,  2.34756634e-01,\n",
       "        3.09888572e-01, -1.15583777e-01,  1.32565647e-01,  6.32867515e-02,\n",
       "        5.02863526e-02,  9.39472839e-02, -1.12590089e-01, -2.09035024e-01,\n",
       "       -1.20945960e-01,  1.52859569e-01, -5.54730952e-01, -1.02454811e-01,\n",
       "       -3.51325452e-01,  5.36949411e-02,  1.43387839e-01,  4.00262445e-01,\n",
       "       -1.93682313e-01, -4.64028195e-02, -8.21131110e-01, -5.42176306e-01,\n",
       "       -2.26001218e-01,  2.49627233e-03,  6.13831460e-01, -5.61382212e-02,\n",
       "        8.35822523e-02,  7.50583947e-01,  1.33555323e-01,  3.51486623e-01,\n",
       "        3.37631404e-01,  9.80119556e-02,  6.70348853e-02, -2.16045707e-01,\n",
       "        4.45902407e-01,  1.95826292e-02, -1.66220203e-01,  3.97410482e-01,\n",
       "        8.72747064e-01, -3.67004573e-01, -1.82554841e-01, -1.34415291e-02,\n",
       "        7.53596246e-01,  3.08969736e-01,  2.39436626e-02, -2.11847425e-01,\n",
       "        5.78979671e-01, -9.37102914e-01,  1.76672250e-01, -2.75033377e-02,\n",
       "       -1.60065144e-02, -5.19831657e-01,  3.25346291e-01, -2.70131379e-01,\n",
       "       -5.99381365e-02,  1.70660138e-01, -7.01240897e-02,  4.19325620e-01,\n",
       "       -1.46547519e-02, -8.69536102e-01, -2.51814965e-02, -1.76410247e-02,\n",
       "       -2.84158736e-01, -4.66197580e-02,  6.41538143e-01, -1.64773941e-01,\n",
       "       -3.79973143e-01, -1.39412805e-01, -1.52025223e-01,  4.82999682e-01,\n",
       "       -4.92794544e-01,  2.02412546e-01, -6.90790415e-02,  2.12275103e-01,\n",
       "       -9.90302801e-01,  3.06342870e-01,  4.04853374e-02,  4.65129256e-01,\n",
       "       -5.66433966e-01,  6.89997897e-02, -8.74860510e-02,  1.79868639e-02,\n",
       "        7.11099982e-01, -1.11187637e+00,  4.10005033e-01, -2.27668047e-01,\n",
       "       -9.66224000e-02, -1.20699733e-01, -6.32329360e-02, -5.58204770e-01,\n",
       "       -2.60874294e-02, -3.07411432e-01, -2.99828351e-01,  9.26047415e-02,\n",
       "        5.34039080e-01,  4.32239175e-02,  2.34063044e-02, -2.53121376e-01,\n",
       "       -1.39201403e-01, -6.33259937e-02,  3.68680537e-01, -5.61339557e-02,\n",
       "       -2.91354567e-01,  5.97551465e-01,  1.47467971e-01,  4.54947680e-01,\n",
       "        2.58759141e-01, -3.98866981e-02,  4.04557109e-01, -2.10907102e-01,\n",
       "       -3.11944366e-01, -4.53988314e-02,  4.00818825e-01, -3.86277527e-01,\n",
       "       -1.50142893e-01,  1.63983583e-01,  1.63192257e-01, -2.78275460e-01,\n",
       "       -3.84504795e-01, -3.95695984e-01,  1.40948053e-02,  1.38006896e-01,\n",
       "       -1.23516068e-01,  6.50202334e-01,  3.66870522e-01, -1.69788495e-01,\n",
       "        2.45730549e-01, -5.52578688e-01, -5.34676671e-01,  1.83796361e-01,\n",
       "        1.25877568e-02,  8.65044653e-01,  5.19684851e-02, -1.31215394e-01,\n",
       "        1.28446907e-01,  6.77897453e-01, -2.20803574e-01, -2.75603503e-01,\n",
       "       -2.31689140e-01, -6.13635898e-01, -4.71367836e-02, -1.47631302e-01,\n",
       "        3.22889909e-02, -3.42675298e-01, -2.10416615e-01, -2.06499159e-01,\n",
       "       -3.29157740e-01,  4.16614056e-01, -1.80337322e+00,  9.41331089e-02,\n",
       "        1.58903331e-01,  1.42494962e-01,  2.30655223e-01, -6.46154225e-01,\n",
       "       -6.42821610e-01,  6.44602895e-01, -1.72474742e-01,  6.70713708e-02,\n",
       "       -4.62279558e-01, -3.95599157e-01,  2.41376325e-01,  1.86119705e-01,\n",
       "        3.87228839e-02,  8.74702558e-02,  2.82811493e-01, -7.43816495e-02,\n",
       "        2.01584309e-01,  2.07135770e-02, -9.45802554e-02,  7.89116979e-01,\n",
       "       -2.25330770e-01, -3.50137115e-01, -2.73793936e-01, -2.11252525e-01,\n",
       "       -8.79000127e-02,  3.19472313e-01, -5.24793267e-01, -1.22845277e-01,\n",
       "        1.19867042e-01, -5.85431337e-01, -4.83795702e-01,  4.57100511e-01,\n",
       "        2.46699229e-01,  6.70443714e-01, -1.21313572e-01, -3.04949638e-02,\n",
       "        4.35442388e-01, -1.05730213e-01, -4.36330944e-01,  2.41458029e-01,\n",
       "        1.07941166e-01,  2.41995662e-01,  1.91874847e-01,  1.54621109e-01,\n",
       "       -3.55167806e-01,  9.17400494e-02,  3.57083917e-01, -2.12280214e-01,\n",
       "        1.25657156e-01, -5.36757857e-02, -5.25296152e-01, -4.86270189e-01,\n",
       "       -2.18511134e-01,  2.07293138e-01, -1.37239262e-01,  6.56821951e-02,\n",
       "       -1.98261455e-01, -5.43740727e-02,  3.04721713e-01, -8.81304368e-02,\n",
       "       -2.15325281e-01, -2.48165786e-01, -2.31711656e-01, -3.18116903e-01,\n",
       "        2.84299165e-01, -7.41779804e-02, -1.89603835e-01, -1.09325714e-01,\n",
       "        2.55320311e-01,  1.86331823e-01, -4.20774966e-01,  3.92204791e-01,\n",
       "       -5.56398511e-01, -4.17285785e-02,  3.89137626e-01,  7.26392269e-02,\n",
       "        5.07790804e-01, -3.48467499e-01,  1.12982273e-01, -4.82557148e-01,\n",
       "       -8.76940787e-01,  1.89762577e-01, -5.22157609e-01, -1.72594532e-01,\n",
       "       -5.26099838e-03, -1.28891803e-02,  4.77178901e-01, -1.86399072e-01,\n",
       "       -3.52949560e-01, -1.84311569e-01, -1.34062439e-01, -5.81560060e-02,\n",
       "        5.93854338e-02, -1.20219126e-01, -5.22692315e-02,  3.07845712e-01,\n",
       "       -2.67195642e-01,  1.30569279e-01, -4.63674590e-03,  1.82422876e-01,\n",
       "        4.66879338e-01,  4.18672189e-02,  6.11538552e-02,  1.34869590e-01,\n",
       "        3.55898440e-01, -1.38653591e-01, -3.65256816e-01, -9.62854549e-02,\n",
       "        9.96593982e-02, -3.07248503e-01, -2.03872949e-01, -2.23142073e-01,\n",
       "        1.28283381e-01, -2.39104196e-01,  4.01870877e-01,  3.82232741e-02,\n",
       "        1.85059214e+00,  1.57345086e-01,  7.07146749e-02, -5.20542786e-02,\n",
       "        4.08450097e-01,  4.23994035e-01, -9.49658975e-02,  1.50979981e-01,\n",
       "       -2.38335252e-01,  4.83546764e-01,  2.45845526e-01,  8.25232714e-02,\n",
       "       -1.95714943e-02, -9.26288217e-03,  2.78993547e-01,  4.14861470e-01,\n",
       "       -2.88574919e-02, -3.36953789e-01, -2.01398060e-01,  7.97637999e-02,\n",
       "       -7.63741612e-01,  4.84934330e-01,  5.02345324e-01, -1.38627753e-01,\n",
       "       -1.82553977e-01,  3.06965351e-01, -9.82625559e-02, -2.42929637e-01,\n",
       "       -7.30643496e-02,  1.81604192e-01, -3.09219718e-01,  7.49764889e-02,\n",
       "        1.84966639e-01,  5.88062465e-01,  1.27017871e-02, -2.24669784e-01,\n",
       "       -1.44728258e-01, -2.05787614e-01, -1.61021769e-01, -3.40269618e-02,\n",
       "        1.76545326e-02, -3.74818385e-01,  7.26213455e-01,  1.21310167e-01,\n",
       "        1.35749847e-01,  7.74698138e-01,  1.98298007e-01, -6.35212600e-01,\n",
       "        2.65358150e-01,  2.35589534e-01, -3.24602991e-01, -4.80187535e-02,\n",
       "        1.35357916e-01,  1.51150882e-01, -4.84724790e-01, -2.60186523e-01,\n",
       "       -2.61916041e-01, -4.46710706e-01, -3.70282382e-01,  4.13375825e-01,\n",
       "       -4.81916696e-01,  2.15948105e-01,  3.24750572e-01, -6.05411470e-01,\n",
       "        5.73898852e-01, -2.70812154e-01, -4.22856420e-01,  6.95341229e-02,\n",
       "       -2.39807740e-02, -8.57414454e-02, -1.13954440e-01, -4.26938795e-02,\n",
       "        1.95104539e-01,  8.81531388e-02,  9.19578895e-02, -2.84226030e-01,\n",
       "        7.55011797e-01, -3.57088089e-01,  1.75044596e-01, -2.71921897e+00,\n",
       "        9.78463367e-02, -1.43194884e-01,  3.71295333e-01, -1.88052073e-01,\n",
       "        3.95100594e-01, -1.52120218e-01,  3.00066352e-01, -1.22709349e-01,\n",
       "        6.76069036e-02, -4.82863076e-02,  2.92670906e-01,  9.74832177e-02,\n",
       "       -2.09175617e-01,  2.02086240e-01, -1.28497839e-01,  1.91360209e-02,\n",
       "       -4.99078512e-01, -3.13503563e-01,  3.57396930e-01,  2.07199365e-01,\n",
       "        4.07532454e-02, -3.05011630e-01, -1.67379990e-01, -7.20416069e-01,\n",
       "       -3.12929392e-01,  3.08266312e-01, -2.79903561e-01, -1.39379859e-01,\n",
       "        5.44259101e-02, -7.87534118e-02,  1.96115553e-01,  1.69283152e-03,\n",
       "        3.91813278e-01, -1.38356715e-01, -2.43607372e-01,  6.83519170e-02,\n",
       "       -1.05518058e-01,  5.44953123e-02,  5.42512611e-02, -2.58909822e-01,\n",
       "        4.69000965e-01,  1.80731416e-01,  2.82809645e-01,  2.35546857e-01,\n",
       "        1.75809622e-01,  5.70196025e-02,  3.03142458e-01,  6.30579829e-01,\n",
       "       -2.74731100e-01,  1.72158226e-01, -2.51327567e-02,  2.68742833e-02,\n",
       "       -1.21240608e-01,  2.43516877e-01,  3.80628049e-01,  4.10137236e-01,\n",
       "       -5.47580011e-02,  1.52295277e-01, -6.26167834e-01,  1.40244737e-02,\n",
       "        4.01964515e-01, -4.10645828e-02,  4.66973931e-01,  3.20079207e-01,\n",
       "       -1.32646218e-01, -1.17572621e-01,  2.96854451e-02,  4.28191662e-01,\n",
       "        2.13338375e-01,  8.07307363e-02, -4.92859483e-01,  2.13905051e-01,\n",
       "        1.75415352e-03,  1.97219461e-01,  6.47464618e-02,  4.22023326e-01,\n",
       "        3.99886966e-02,  8.09082210e-01,  7.25122511e-01, -1.60301283e-01,\n",
       "       -2.86454260e-01,  1.21759631e-01,  2.80379504e-01,  2.94712424e-01,\n",
       "       -7.11642027e+00, -1.52258098e-01, -4.52136904e-01, -3.45162600e-02,\n",
       "       -1.43495947e-02, -5.57892442e-01, -6.68959320e-02, -2.30978847e-01,\n",
       "        3.54197949e-01,  5.48353978e-02,  4.77250546e-01, -2.50150442e-01,\n",
       "       -1.99990943e-01, -3.02957654e-01, -4.45920438e-01,  3.81529778e-01],\n",
       "      dtype=float32)"
      ]
     },
     "execution_count": 35,
     "metadata": {},
     "output_type": "execute_result"
    }
   ],
   "source": [
    "train_features[0]"
   ]
  },
  {
   "cell_type": "code",
   "execution_count": 36,
   "metadata": {},
   "outputs": [
    {
     "name": "stdout",
     "output_type": "stream",
     "text": [
      "[0 0 0 ... 0 0 0]\n"
     ]
    }
   ],
   "source": [
    "print(train_labels)"
   ]
  },
  {
   "cell_type": "code",
   "execution_count": 37,
   "metadata": {},
   "outputs": [
    {
     "data": {
      "text/plain": [
       "numpy.ndarray"
      ]
     },
     "execution_count": 37,
     "metadata": {},
     "output_type": "execute_result"
    }
   ],
   "source": [
    "type(train_features[0])"
   ]
  },
  {
   "cell_type": "markdown",
   "metadata": {},
   "source": [
    "# Logistic Regression"
   ]
  },
  {
   "cell_type": "code",
   "execution_count": 38,
   "metadata": {},
   "outputs": [],
   "source": [
    "lr_clf = LogisticRegression(solver='liblinear', C=0.01)# c is a a regulization typer hyperparameter "
   ]
  },
  {
   "cell_type": "code",
   "execution_count": 39,
   "metadata": {},
   "outputs": [
    {
     "data": {
      "text/plain": [
       "LogisticRegression(C=0.01, solver='liblinear')"
      ]
     },
     "execution_count": 39,
     "metadata": {},
     "output_type": "execute_result"
    }
   ],
   "source": [
    "lr_clf.fit(train_features, train_labels)"
   ]
  },
  {
   "cell_type": "code",
   "execution_count": 40,
   "metadata": {},
   "outputs": [
    {
     "data": {
      "text/plain": [
       "0.7231833910034602"
      ]
     },
     "execution_count": 40,
     "metadata": {},
     "output_type": "execute_result"
    }
   ],
   "source": [
    "lr_clf.score(test_features, test_labels)"
   ]
  },
  {
   "cell_type": "code",
   "execution_count": 41,
   "metadata": {
    "scrolled": true
   },
   "outputs": [
    {
     "data": {
      "image/png": "[encoded data removed]",
      "text/plain": [
       "<Figure size 576x396 with 2 Axes>"
      ]
     },
     "metadata": {},
     "output_type": "display_data"
    }
   ],
   "source": [
    "pred_labels = lr_clf.predict(test_features)\n",
    "conf_matrix = confusion_matrix(test_labels, pred_labels)\n",
    "print_metrices(conf_matrix)"
   ]
  },
  {
   "cell_type": "code",
   "execution_count": 42,
   "metadata": {},
   "outputs": [
    {
     "name": "stdout",
     "output_type": "stream",
     "text": [
      "0.7174199164490426\n"
     ]
    }
   ],
   "source": [
    "pred_prob = lr_clf.predict_proba(test_features)\n",
    "fpr, tpr, thresh = roc_curve(test_labels, pred_prob[:,1], pos_label=1)\n",
    "\n",
    "# roc curve for tpr = fpr \n",
    "random_probs = [0 for i in range(len(test_labels))]\n",
    "p_fpr, p_tpr, _ = roc_curve(test_labels, random_probs, pos_label=1)\n",
    "auc_score = roc_auc_score(test_labels, pred_prob[:,1])\n",
    "print(auc_score)"
   ]
  },
  {
   "cell_type": "code",
   "execution_count": 43,
   "metadata": {},
   "outputs": [
    {
     "name": "stdout",
     "output_type": "stream",
     "text": [
      "              precision    recall  f1-score   support\n",
      "\n",
      "           0       0.72      0.94      0.81       927\n",
      "           1       0.75      0.34      0.47       518\n",
      "\n",
      "    accuracy                           0.72      1445\n",
      "   macro avg       0.74      0.64      0.64      1445\n",
      "weighted avg       0.73      0.72      0.69      1445\n",
      "\n"
     ]
    }
   ],
   "source": [
    "print(classification_report(test_labels, pred_labels))"
   ]
  },
  {
   "cell_type": "code",
   "execution_count": 44,
   "metadata": {},
   "outputs": [
    {
     "name": "stdout",
     "output_type": "stream",
     "text": [
      "Accuracy with shifted center:  0.7231833910034602\n"
     ]
    }
   ],
   "source": [
    "pred_temp = pred_prob[:,1]\n",
    "pred_temp[pred_temp >= 0.44] = 1\n",
    "pred_temp[pred_temp < 0.44] = 0\n",
    "score1 = (pred_temp == test_labels).sum() / len(test_labels)\n",
    "print('Accuracy with shifted center: ', score1)"
   ]
  },
  {
   "cell_type": "code",
   "execution_count": 45,
   "metadata": {},
   "outputs": [
    {
     "data": {
      "text/plain": [
       "'\"grid_search = GridSearchCV(SVC(), parameters,cv=5)\\ngrid_search.fit(train_features, train_labels)\\n\\nprint(\\'best parameters: \\', grid_search.best_params_)\\nprint(\\'best scores: \\', grid_search.best_score_)'"
      ]
     },
     "execution_count": 45,
     "metadata": {},
     "output_type": "execute_result"
    }
   ],
   "source": [
    "\"\"\"\"grid_search = GridSearchCV(SVC(), parameters,cv=5)\n",
    "grid_search.fit(train_features, train_labels)\n",
    "\n",
    "print('best parameters: ', grid_search.best_params_)\n",
    "print('best scores: ', grid_search.best_score_)\"\"\""
   ]
  },
  {
   "cell_type": "markdown",
   "metadata": {},
   "source": [
    "# SVM"
   ]
  },
  {
   "cell_type": "code",
   "execution_count": 46,
   "metadata": {},
   "outputs": [
    {
     "data": {
      "text/plain": [
       "0.7238754325259515"
      ]
     },
     "execution_count": 46,
     "metadata": {},
     "output_type": "execute_result"
    }
   ],
   "source": [
    "svm = SVC(kernel=\"linear\", C=0.025,random_state=101) # because our data is linearly sperable \n",
    "svm.probability=True\n",
    "svm.fit(train_features, train_labels)\n",
    "svm.score(test_features, test_labels)"
   ]
  },
  {
   "cell_type": "code",
   "execution_count": 47,
   "metadata": {},
   "outputs": [
    {
     "name": "stdout",
     "output_type": "stream",
     "text": [
      "0.7200407758660186\n"
     ]
    }
   ],
   "source": [
    "pred_prob = svm.predict_proba(test_features)\n",
    "fpr, tpr, thresh = roc_curve(test_labels, pred_prob[:,1], pos_label=1)\n",
    "\n",
    "# roc curve for tpr = fpr \n",
    "random_probs = [0 for i in range(len(test_labels))]\n",
    "p_fpr, p_tpr, _ = roc_curve(test_labels, random_probs, pos_label=1)\n",
    "auc_score = roc_auc_score(test_labels, pred_prob[:,1])\n",
    "print(auc_score)"
   ]
  },
  {
   "cell_type": "code",
   "execution_count": 48,
   "metadata": {},
   "outputs": [
    {
     "data": {
      "image/png": "[encoded data removed]",
      "text/plain": [
       "<Figure size 576x396 with 2 Axes>"
      ]
     },
     "metadata": {},
     "output_type": "display_data"
    }
   ],
   "source": [
    "pred_labels = svm.predict(test_features)\n",
    "conf_matrix = confusion_matrix(test_labels, pred_labels)\n",
    "print_metrices(conf_matrix)"
   ]
  },
  {
   "cell_type": "code",
   "execution_count": 49,
   "metadata": {},
   "outputs": [
    {
     "name": "stdout",
     "output_type": "stream",
     "text": [
      "              precision    recall  f1-score   support\n",
      "\n",
      "           0       0.72      0.94      0.81       927\n",
      "           1       0.76      0.34      0.47       518\n",
      "\n",
      "    accuracy                           0.72      1445\n",
      "   macro avg       0.74      0.64      0.64      1445\n",
      "weighted avg       0.73      0.72      0.69      1445\n",
      "\n"
     ]
    }
   ],
   "source": [
    "print(classification_report(test_labels, pred_labels))"
   ]
  },
  {
   "cell_type": "code",
   "execution_count": 50,
   "metadata": {},
   "outputs": [
    {
     "data": {
      "image/png": "[encoded data removed]",
      "text/plain": [
       "<Figure size 576x396 with 1 Axes>"
      ]
     },
     "metadata": {},
     "output_type": "display_data"
    }
   ],
   "source": [
    "# plot roc curves\n",
    "plt.plot(fpr, tpr, linestyle='--',color='orange')\n",
    "plt.plot(p_fpr, p_tpr, linestyle='--', color='blue')\n",
    "# title\n",
    "plt.title('ROC Curve - SVM', fontsize=20)\n",
    "# x label\n",
    "plt.xlabel('False Positive Rate', fontsize=18)\n",
    "# y label\n",
    "plt.ylabel('True Positive rate',fontsize=18)\n",
    "\n",
    "# plt.legend(loc='best')\n",
    "plt.savefig('ROC',dpi=300)\n",
    "plt.show();"
   ]
  },
  {
   "cell_type": "markdown",
   "metadata": {},
   "source": [
    "# Random Forest"
   ]
  },
  {
   "cell_type": "code",
   "execution_count": 51,
   "metadata": {},
   "outputs": [
    {
     "data": {
      "text/plain": [
       "RandomForestClassifier(max_features=None, min_samples_leaf=30, n_estimators=70,\n",
       "                       n_jobs=-1, oob_score=True, random_state=101)"
      ]
     },
     "execution_count": 51,
     "metadata": {},
     "output_type": "execute_result"
    }
   ],
   "source": [
    "from sklearn.ensemble import RandomForestClassifier\n",
    "rfm = RandomForestClassifier(n_estimators=70, oob_score=True, n_jobs=-1,\n",
    "                            random_state=101,max_features=None, min_samples_leaf=30)\n",
    "rfm.fit(train_features, train_labels)"
   ]
  },
  {
   "cell_type": "code",
   "execution_count": 52,
   "metadata": {},
   "outputs": [
    {
     "name": "stdout",
     "output_type": "stream",
     "text": [
      "0.656093680365525\n"
     ]
    }
   ],
   "source": [
    "pred_prob = rfm.predict_proba(test_features)\n",
    "auc_score = roc_auc_score(test_labels, pred_prob[:,1])\n",
    "print(auc_score)"
   ]
  },
  {
   "cell_type": "code",
   "execution_count": 53,
   "metadata": {},
   "outputs": [
    {
     "data": {
      "image/png": "[encoded data removed]",
      "text/plain": [
       "<Figure size 576x396 with 2 Axes>"
      ]
     },
     "metadata": {},
     "output_type": "display_data"
    }
   ],
   "source": [
    "pred_labels = rfm.predict(test_features)\n",
    "conf_matrix = confusion_matrix(test_labels, pred_labels)\n",
    "print_metrices(conf_matrix)"
   ]
  },
  {
   "cell_type": "code",
   "execution_count": 54,
   "metadata": {},
   "outputs": [
    {
     "name": "stdout",
     "output_type": "stream",
     "text": [
      "              precision    recall  f1-score   support\n",
      "\n",
      "           0       0.70      0.91      0.79       927\n",
      "           1       0.65      0.30      0.41       518\n",
      "\n",
      "    accuracy                           0.69      1445\n",
      "   macro avg       0.68      0.61      0.60      1445\n",
      "weighted avg       0.68      0.69      0.66      1445\n",
      "\n"
     ]
    }
   ],
   "source": [
    "print(classification_report(test_labels, pred_labels))"
   ]
  },
  {
   "cell_type": "markdown",
   "metadata": {},
   "source": [
    "# KNN"
   ]
  },
  {
   "cell_type": "code",
   "execution_count": 55,
   "metadata": {},
   "outputs": [
    {
     "data": {
      "text/plain": [
       "KNeighborsClassifier()"
      ]
     },
     "execution_count": 55,
     "metadata": {},
     "output_type": "execute_result"
    }
   ],
   "source": [
    "from sklearn.neighbors import KNeighborsClassifier\n",
    "knn = KNeighborsClassifier()\n",
    "knn.fit(train_features, train_labels)"
   ]
  },
  {
   "cell_type": "code",
   "execution_count": 56,
   "metadata": {},
   "outputs": [
    {
     "name": "stdout",
     "output_type": "stream",
     "text": [
      "0.6181000695563803\n"
     ]
    }
   ],
   "source": [
    "pred_prob = knn.predict_proba(test_features)\n",
    "auc_score = roc_auc_score(test_labels, pred_prob[:,1])\n",
    "print(auc_score)"
   ]
  },
  {
   "cell_type": "code",
   "execution_count": 57,
   "metadata": {},
   "outputs": [
    {
     "data": {
      "image/png": "[encoded data removed]",
      "text/plain": [
       "<Figure size 576x396 with 2 Axes>"
      ]
     },
     "metadata": {},
     "output_type": "display_data"
    }
   ],
   "source": [
    "pred_labels = rfm.predict(test_features)\n",
    "conf_matrix = confusion_matrix(test_labels, pred_labels)\n",
    "print_metrices(conf_matrix)"
   ]
  },
  {
   "cell_type": "code",
   "execution_count": 58,
   "metadata": {},
   "outputs": [
    {
     "name": "stdout",
     "output_type": "stream",
     "text": [
      "              precision    recall  f1-score   support\n",
      "\n",
      "           0       0.70      0.91      0.79       927\n",
      "           1       0.65      0.30      0.41       518\n",
      "\n",
      "    accuracy                           0.69      1445\n",
      "   macro avg       0.68      0.61      0.60      1445\n",
      "weighted avg       0.68      0.69      0.66      1445\n",
      "\n"
     ]
    }
   ],
   "source": [
    "print(classification_report(test_labels, pred_labels))"
   ]
  },
  {
   "cell_type": "markdown",
   "metadata": {},
   "source": [
    "# ANN"
   ]
  },
  {
   "cell_type": "code",
   "execution_count": 59,
   "metadata": {},
   "outputs": [],
   "source": [
    "from tensorflow.keras import regularizers"
   ]
  },
  {
   "cell_type": "code",
   "execution_count": 60,
   "metadata": {},
   "outputs": [],
   "source": [
    "##tried different regularizer to prevent overfitting \n",
    "#layers.Dropout(0.2),\n",
    "#kernel_regularizer\n",
    "#bias regulalizer\n",
    "#simply cutting epochs lead to under training K folds"
   ]
  },
  {
   "cell_type": "code",
   "execution_count": 61,
   "metadata": {},
   "outputs": [
    {
     "name": "stdout",
     "output_type": "stream",
     "text": [
      "Epoch 1/100\n",
      "181/181 [==============================] - 3s 1ms/step - loss: 0.6405 - accuracy: 0.6649\n",
      "Epoch 2/100\n",
      "181/181 [==============================] - 0s 1ms/step - loss: 0.6089 - accuracy: 0.6962\n",
      "Epoch 3/100\n",
      "181/181 [==============================] - 0s 1ms/step - loss: 0.5925 - accuracy: 0.7012\n",
      "Epoch 4/100\n",
      "181/181 [==============================] - 0s 1ms/step - loss: 0.5855 - accuracy: 0.7048\n",
      "Epoch 5/100\n",
      "181/181 [==============================] - 0s 1ms/step - loss: 0.5816 - accuracy: 0.7074\n",
      "Epoch 6/100\n",
      "181/181 [==============================] - 0s 1ms/step - loss: 0.5773 - accuracy: 0.7095\n",
      "Epoch 7/100\n",
      "181/181 [==============================] - 0s 1ms/step - loss: 0.5775 - accuracy: 0.7090\n",
      "Epoch 8/100\n",
      "181/181 [==============================] - 0s 1ms/step - loss: 0.5821 - accuracy: 0.7085\n",
      "Epoch 9/100\n",
      "181/181 [==============================] - 0s 1ms/step - loss: 0.5713 - accuracy: 0.7170\n",
      "Epoch 10/100\n",
      "181/181 [==============================] - 0s 1ms/step - loss: 0.5706 - accuracy: 0.7151\n",
      "Epoch 11/100\n",
      "181/181 [==============================] - 0s 1ms/step - loss: 0.5729 - accuracy: 0.7173\n",
      "Epoch 12/100\n",
      "181/181 [==============================] - 0s 1ms/step - loss: 0.5681 - accuracy: 0.7187\n",
      "Epoch 13/100\n",
      "181/181 [==============================] - 0s 1ms/step - loss: 0.5713 - accuracy: 0.7130\n",
      "Epoch 14/100\n",
      "181/181 [==============================] - 0s 1ms/step - loss: 0.5670 - accuracy: 0.7185\n",
      "Epoch 15/100\n",
      "181/181 [==============================] - 0s 1ms/step - loss: 0.5665 - accuracy: 0.7196\n",
      "Epoch 16/100\n",
      "181/181 [==============================] - 0s 1ms/step - loss: 0.5657 - accuracy: 0.7187\n",
      "Epoch 17/100\n",
      "181/181 [==============================] - 0s 1ms/step - loss: 0.5629 - accuracy: 0.7225\n",
      "Epoch 18/100\n",
      "181/181 [==============================] - 0s 1ms/step - loss: 0.5628 - accuracy: 0.7253\n",
      "Epoch 19/100\n",
      "181/181 [==============================] - 0s 1ms/step - loss: 0.5610 - accuracy: 0.7282\n",
      "Epoch 20/100\n",
      "181/181 [==============================] - 0s 1ms/step - loss: 0.5670 - accuracy: 0.7249\n",
      "Epoch 21/100\n",
      "181/181 [==============================] - 0s 1ms/step - loss: 0.5663 - accuracy: 0.7199\n",
      "Epoch 22/100\n",
      "181/181 [==============================] - 0s 1ms/step - loss: 0.5566 - accuracy: 0.7206\n",
      "Epoch 23/100\n",
      "181/181 [==============================] - 0s 1ms/step - loss: 0.5591 - accuracy: 0.7215\n",
      "Epoch 24/100\n",
      "181/181 [==============================] - 0s 1ms/step - loss: 0.5613 - accuracy: 0.7282\n",
      "Epoch 25/100\n",
      "181/181 [==============================] - 0s 1ms/step - loss: 0.5634 - accuracy: 0.7253\n",
      "Epoch 26/100\n",
      "181/181 [==============================] - 0s 1ms/step - loss: 0.5610 - accuracy: 0.7251\n",
      "Epoch 27/100\n",
      "181/181 [==============================] - 0s 1ms/step - loss: 0.5574 - accuracy: 0.7284\n",
      "Epoch 28/100\n",
      "181/181 [==============================] - 0s 1ms/step - loss: 0.5549 - accuracy: 0.7304\n",
      "Epoch 29/100\n",
      "181/181 [==============================] - 0s 1ms/step - loss: 0.5599 - accuracy: 0.7230\n",
      "Epoch 30/100\n",
      "181/181 [==============================] - 0s 1ms/step - loss: 0.5534 - accuracy: 0.7279\n",
      "Epoch 31/100\n",
      "181/181 [==============================] - 0s 1ms/step - loss: 0.5545 - accuracy: 0.7230\n",
      "Epoch 32/100\n",
      "181/181 [==============================] - 0s 1ms/step - loss: 0.5542 - accuracy: 0.7303\n",
      "Epoch 33/100\n",
      "181/181 [==============================] - 0s 1ms/step - loss: 0.5593 - accuracy: 0.7227\n",
      "Epoch 34/100\n",
      "181/181 [==============================] - 0s 1ms/step - loss: 0.5544 - accuracy: 0.7272\n",
      "Epoch 35/100\n",
      "181/181 [==============================] - 0s 1ms/step - loss: 0.5533 - accuracy: 0.7296\n",
      "Epoch 36/100\n",
      "181/181 [==============================] - 0s 1ms/step - loss: 0.5554 - accuracy: 0.7280\n",
      "Epoch 37/100\n",
      "181/181 [==============================] - 0s 1ms/step - loss: 0.5531 - accuracy: 0.7261\n",
      "Epoch 38/100\n",
      "181/181 [==============================] - 0s 1ms/step - loss: 0.5586 - accuracy: 0.7268\n",
      "Epoch 39/100\n",
      "181/181 [==============================] - 0s 1ms/step - loss: 0.5567 - accuracy: 0.7311\n",
      "Epoch 40/100\n",
      "181/181 [==============================] - 0s 2ms/step - loss: 0.5558 - accuracy: 0.7291\n",
      "Epoch 41/100\n",
      "181/181 [==============================] - 0s 1ms/step - loss: 0.5543 - accuracy: 0.7310\n",
      "Epoch 42/100\n",
      "181/181 [==============================] - 0s 1ms/step - loss: 0.5496 - accuracy: 0.7346\n",
      "Epoch 43/100\n",
      "181/181 [==============================] - 0s 1ms/step - loss: 0.5519 - accuracy: 0.7298\n",
      "Epoch 44/100\n",
      "181/181 [==============================] - 0s 1ms/step - loss: 0.5481 - accuracy: 0.7363\n",
      "Epoch 45/100\n",
      "181/181 [==============================] - 0s 1ms/step - loss: 0.5504 - accuracy: 0.7346\n",
      "Epoch 46/100\n",
      "181/181 [==============================] - 0s 1ms/step - loss: 0.5552 - accuracy: 0.7313\n",
      "Epoch 47/100\n",
      "181/181 [==============================] - 0s 1ms/step - loss: 0.5521 - accuracy: 0.7318\n",
      "Epoch 48/100\n",
      "181/181 [==============================] - 0s 1ms/step - loss: 0.5501 - accuracy: 0.7329\n",
      "Epoch 49/100\n",
      "181/181 [==============================] - 0s 1ms/step - loss: 0.5485 - accuracy: 0.7346\n",
      "Epoch 50/100\n",
      "181/181 [==============================] - 0s 1ms/step - loss: 0.5518 - accuracy: 0.7362\n",
      "Epoch 51/100\n",
      "181/181 [==============================] - 0s 1ms/step - loss: 0.5455 - accuracy: 0.7362\n",
      "Epoch 52/100\n",
      "181/181 [==============================] - 0s 1ms/step - loss: 0.5514 - accuracy: 0.7306\n",
      "Epoch 53/100\n",
      "181/181 [==============================] - 0s 1ms/step - loss: 0.5466 - accuracy: 0.7363\n",
      "Epoch 54/100\n",
      "181/181 [==============================] - 0s 1ms/step - loss: 0.5464 - accuracy: 0.7334\n",
      "Epoch 55/100\n",
      "181/181 [==============================] - 0s 1ms/step - loss: 0.5554 - accuracy: 0.7313\n",
      "Epoch 56/100\n",
      "181/181 [==============================] - 0s 1ms/step - loss: 0.5482 - accuracy: 0.7337\n",
      "Epoch 57/100\n",
      "181/181 [==============================] - 0s 1ms/step - loss: 0.5439 - accuracy: 0.7413\n",
      "Epoch 58/100\n",
      "181/181 [==============================] - 0s 1ms/step - loss: 0.5451 - accuracy: 0.7369\n",
      "Epoch 59/100\n",
      "181/181 [==============================] - 0s 1ms/step - loss: 0.5436 - accuracy: 0.7422\n",
      "Epoch 60/100\n",
      "181/181 [==============================] - 0s 1ms/step - loss: 0.5424 - accuracy: 0.7403\n",
      "Epoch 61/100\n",
      "181/181 [==============================] - 0s 1ms/step - loss: 0.5451 - accuracy: 0.7351\n",
      "Epoch 62/100\n",
      "181/181 [==============================] - 0s 1ms/step - loss: 0.5455 - accuracy: 0.7367\n",
      "Epoch 63/100\n",
      "181/181 [==============================] - 0s 1ms/step - loss: 0.5443 - accuracy: 0.7401\n",
      "Epoch 64/100\n",
      "181/181 [==============================] - 0s 1ms/step - loss: 0.5434 - accuracy: 0.7367\n",
      "Epoch 65/100\n",
      "181/181 [==============================] - 0s 1ms/step - loss: 0.5424 - accuracy: 0.7386\n",
      "Epoch 66/100\n",
      "181/181 [==============================] - 0s 1ms/step - loss: 0.5478 - accuracy: 0.7353\n",
      "Epoch 67/100\n",
      "181/181 [==============================] - 0s 1ms/step - loss: 0.5454 - accuracy: 0.7360\n",
      "Epoch 68/100\n",
      "181/181 [==============================] - 0s 1ms/step - loss: 0.5440 - accuracy: 0.7379\n",
      "Epoch 69/100\n",
      "181/181 [==============================] - 0s 1ms/step - loss: 0.5398 - accuracy: 0.7448\n",
      "Epoch 70/100\n",
      "181/181 [==============================] - 0s 1ms/step - loss: 0.5424 - accuracy: 0.7356\n",
      "Epoch 71/100\n",
      "181/181 [==============================] - 0s 1ms/step - loss: 0.5400 - accuracy: 0.7450\n",
      "Epoch 72/100\n",
      "181/181 [==============================] - 0s 1ms/step - loss: 0.5372 - accuracy: 0.7443\n",
      "Epoch 73/100\n",
      "181/181 [==============================] - 0s 1ms/step - loss: 0.5441 - accuracy: 0.7396\n",
      "Epoch 74/100\n",
      "181/181 [==============================] - 0s 1ms/step - loss: 0.5414 - accuracy: 0.7429\n",
      "Epoch 75/100\n",
      "181/181 [==============================] - 0s 1ms/step - loss: 0.5404 - accuracy: 0.7431\n",
      "Epoch 76/100\n",
      "181/181 [==============================] - 0s 1ms/step - loss: 0.5368 - accuracy: 0.7403\n",
      "Epoch 77/100\n",
      "181/181 [==============================] - 0s 1ms/step - loss: 0.5433 - accuracy: 0.7375\n",
      "Epoch 78/100\n",
      "181/181 [==============================] - 0s 1ms/step - loss: 0.5397 - accuracy: 0.7417\n",
      "Epoch 79/100\n",
      "181/181 [==============================] - 0s 1ms/step - loss: 0.5353 - accuracy: 0.7458\n",
      "Epoch 80/100\n",
      "181/181 [==============================] - 0s 1ms/step - loss: 0.5360 - accuracy: 0.7438\n",
      "Epoch 81/100\n"
     ]
    },
    {
     "name": "stdout",
     "output_type": "stream",
     "text": [
      "181/181 [==============================] - 0s 1ms/step - loss: 0.5406 - accuracy: 0.7405\n",
      "Epoch 82/100\n",
      "181/181 [==============================] - 0s 1ms/step - loss: 0.5415 - accuracy: 0.7398\n",
      "Epoch 83/100\n",
      "181/181 [==============================] - 0s 1ms/step - loss: 0.5387 - accuracy: 0.7412\n",
      "Epoch 84/100\n",
      "181/181 [==============================] - 0s 1ms/step - loss: 0.5420 - accuracy: 0.7400\n",
      "Epoch 85/100\n",
      "181/181 [==============================] - 0s 1ms/step - loss: 0.5349 - accuracy: 0.7427\n",
      "Epoch 86/100\n",
      "181/181 [==============================] - 0s 1ms/step - loss: 0.5366 - accuracy: 0.7389\n",
      "Epoch 87/100\n",
      "181/181 [==============================] - 0s 1ms/step - loss: 0.5353 - accuracy: 0.7388\n",
      "Epoch 88/100\n",
      "181/181 [==============================] - 0s 1ms/step - loss: 0.5426 - accuracy: 0.7389\n",
      "Epoch 89/100\n",
      "181/181 [==============================] - 0s 1ms/step - loss: 0.5391 - accuracy: 0.7401\n",
      "Epoch 90/100\n",
      "181/181 [==============================] - 0s 1ms/step - loss: 0.5378 - accuracy: 0.7355\n",
      "Epoch 91/100\n",
      "181/181 [==============================] - 0s 1ms/step - loss: 0.5327 - accuracy: 0.7443\n",
      "Epoch 92/100\n",
      "181/181 [==============================] - 0s 1ms/step - loss: 0.5426 - accuracy: 0.7400\n",
      "Epoch 93/100\n",
      "181/181 [==============================] - 0s 1ms/step - loss: 0.5349 - accuracy: 0.7446\n",
      "Epoch 94/100\n",
      "181/181 [==============================] - 0s 1ms/step - loss: 0.5326 - accuracy: 0.7431\n",
      "Epoch 95/100\n",
      "181/181 [==============================] - 0s 1ms/step - loss: 0.5354 - accuracy: 0.7429\n",
      "Epoch 96/100\n",
      "181/181 [==============================] - 0s 1ms/step - loss: 0.5380 - accuracy: 0.7446\n",
      "Epoch 97/100\n",
      "181/181 [==============================] - 0s 1ms/step - loss: 0.5374 - accuracy: 0.7441\n",
      "Epoch 98/100\n",
      "181/181 [==============================] - 0s 1ms/step - loss: 0.5396 - accuracy: 0.7424\n",
      "Epoch 99/100\n",
      "181/181 [==============================] - 0s 1ms/step - loss: 0.5308 - accuracy: 0.7479\n",
      "Epoch 100/100\n",
      "181/181 [==============================] - 0s 1ms/step - loss: 0.5418 - accuracy: 0.7412\n",
      "46/46 [==============================] - 0s 1ms/step - loss: 0.6169 - accuracy: 0.7260\n"
     ]
    }
   ],
   "source": [
    "ann = keras.Sequential([\n",
    "   # keras.layers.Dense(32, activation='relu', input_dim=train_features.shape[1],kernel_regularizer=regularizers.l2(0.001)),\n",
    "    keras.layers.Dense(16, activation='relu',kernel_regularizer=regularizers.l2(0.001)),\n",
    "    keras.layers.Dense(1, activation='sigmoid')\n",
    "])\n",
    "\n",
    "# Compile the model\n",
    "ann.compile(optimizer='adam',\n",
    "              loss='binary_crossentropy',\n",
    "              metrics=['accuracy'])\n",
    "\n",
    "# Train the model\n",
    "ann.fit(train_features, train_labels, epochs=100, batch_size=32, verbose=1) #common to use batch sizes that are powers of 2, such as 32, 64, 128, etc.\n",
    "\n",
    "# Evaluate the model on the test set\n",
    "test_loss, test_acc = ann.evaluate(test_features, test_labels)"
   ]
  },
  {
   "cell_type": "code",
   "execution_count": 62,
   "metadata": {},
   "outputs": [
    {
     "name": "stdout",
     "output_type": "stream",
     "text": [
      "0.714755323978625\n"
     ]
    }
   ],
   "source": [
    "pred_prob = ann.predict(test_features)\n",
    "auc_score = roc_auc_score(test_labels, pred_prob)\n",
    "print(auc_score)"
   ]
  },
  {
   "cell_type": "code",
   "execution_count": 63,
   "metadata": {},
   "outputs": [],
   "source": [
    "pred_prob[pred_temp >= 0.44] = 1\n",
    "pred_prob[pred_temp < 0.44] = 0"
   ]
  },
  {
   "cell_type": "code",
   "execution_count": 64,
   "metadata": {},
   "outputs": [
    {
     "data": {
      "image/png": "[encoded data removed]",
      "text/plain": [
       "<Figure size 576x396 with 2 Axes>"
      ]
     },
     "metadata": {},
     "output_type": "display_data"
    }
   ],
   "source": [
    "conf_matrix = confusion_matrix(test_labels, pred_prob)\n",
    "print_metrices(conf_matrix)"
   ]
  },
  {
   "cell_type": "code",
   "execution_count": 65,
   "metadata": {},
   "outputs": [
    {
     "name": "stdout",
     "output_type": "stream",
     "text": [
      "              precision    recall  f1-score   support\n",
      "\n",
      "           0       0.74      0.88      0.80       927\n",
      "           1       0.68      0.44      0.53       518\n",
      "\n",
      "    accuracy                           0.72      1445\n",
      "   macro avg       0.71      0.66      0.67      1445\n",
      "weighted avg       0.72      0.72      0.71      1445\n",
      "\n"
     ]
    }
   ],
   "source": [
    "print(classification_report(test_labels, pred_prob))"
   ]
  },
  {
   "cell_type": "code",
   "execution_count": 66,
   "metadata": {},
   "outputs": [
    {
     "data": {
      "text/plain": [
       "(5780, 768)"
      ]
     },
     "execution_count": 66,
     "metadata": {},
     "output_type": "execute_result"
    }
   ],
   "source": [
    "train_features.shape"
   ]
  },
  {
   "cell_type": "markdown",
   "metadata": {},
   "source": [
    "# LSTM"
   ]
  },
  {
   "cell_type": "code",
   "execution_count": 67,
   "metadata": {},
   "outputs": [
    {
     "name": "stdout",
     "output_type": "stream",
     "text": [
      "Model: \"sequential_1\"\n",
      "_________________________________________________________________\n",
      " Layer (type)                Output Shape              Param #   \n",
      "=================================================================\n",
      " lstm (LSTM)                 (None, 64)                213248    \n",
      "                                                                 \n",
      " dense_2 (Dense)             (None, 1)                 65        \n",
      "                                                                 \n",
      "=================================================================\n",
      "Total params: 213,313\n",
      "Trainable params: 213,313\n",
      "Non-trainable params: 0\n",
      "_________________________________________________________________\n"
     ]
    }
   ],
   "source": [
    "from tensorflow.keras.models import Sequential\n",
    "from tensorflow.keras.layers import Dense, LSTM\n",
    "\n",
    "\n",
    "# define the input shape for the LSTM layer\n",
    "input_shape = (1, 768)# timestep,input_dim\n",
    "\n",
    "# create the model\n",
    "lstm = Sequential()\n",
    "\n",
    "# add the LSTM layer\n",
    "lstm.add(LSTM(64, input_shape=input_shape))\n",
    "\n",
    "# add the output layer with sigmoid activation for binary classification\n",
    "lstm.add(Dense(1, activation='sigmoid'))\n",
    "\n",
    "# compile the model\n",
    "lstm.compile(optimizer='adam', loss='binary_crossentropy', metrics=['accuracy'])\n",
    "\n",
    "# print the summary of the model architecture\n",
    "lstm.summary()\n"
   ]
  },
  {
   "cell_type": "code",
   "execution_count": 68,
   "metadata": {},
   "outputs": [],
   "source": [
    " test_features_2, y_val_features, test_labels_2, y_val_labels = train_test_split(test_features, test_labels, train_size=0.50)"
   ]
  },
  {
   "cell_type": "code",
   "execution_count": 69,
   "metadata": {},
   "outputs": [],
   "source": [
    "train_features_reshaped = np.reshape(train_features, (-1, 1, 768)) # for 3d shape"
   ]
  },
  {
   "cell_type": "code",
   "execution_count": 70,
   "metadata": {},
   "outputs": [
    {
     "data": {
      "text/plain": [
       "(723, 768)"
      ]
     },
     "execution_count": 70,
     "metadata": {},
     "output_type": "execute_result"
    }
   ],
   "source": [
    "y_val_features.shape"
   ]
  },
  {
   "cell_type": "code",
   "execution_count": 71,
   "metadata": {},
   "outputs": [],
   "source": [
    "y_val_features_3d = np.reshape(y_val_features, (y_val_features.shape[0], 1, y_val_features.shape[1]))"
   ]
  },
  {
   "cell_type": "code",
   "execution_count": 72,
   "metadata": {},
   "outputs": [
    {
     "data": {
      "text/plain": [
       "array([[[-0.15908617,  0.15995473, -0.16116822, ..., -0.3219047 ,\n",
       "         -0.09377687,  0.11291344]],\n",
       "\n",
       "       [[-0.2143948 ,  0.06582463,  0.15222482, ..., -0.4319887 ,\n",
       "          0.11868627,  0.23598279]],\n",
       "\n",
       "       [[-0.2538715 ,  0.12084133, -0.07965237, ..., -0.4764318 ,\n",
       "          0.19745684,  0.31613365]],\n",
       "\n",
       "       ...,\n",
       "\n",
       "       [[-0.2058237 ,  0.14735907,  0.08931598, ..., -0.47703782,\n",
       "          0.0909949 ,  0.08280648]],\n",
       "\n",
       "       [[-0.12743652, -0.02449325, -0.18267286, ..., -0.4419318 ,\n",
       "          0.06599125,  0.18560684]],\n",
       "\n",
       "       [[-0.4500478 , -0.07149757, -0.05361588, ..., -0.2081987 ,\n",
       "          0.07120012,  0.2046469 ]]], dtype=float32)"
      ]
     },
     "execution_count": 72,
     "metadata": {},
     "output_type": "execute_result"
    }
   ],
   "source": [
    "y_val_features_3d"
   ]
  },
  {
   "cell_type": "code",
   "execution_count": 73,
   "metadata": {},
   "outputs": [
    {
     "data": {
      "text/plain": [
       "(5780, 1, 768)"
      ]
     },
     "execution_count": 73,
     "metadata": {},
     "output_type": "execute_result"
    }
   ],
   "source": [
    "train_features_reshaped.shape"
   ]
  },
  {
   "cell_type": "code",
   "execution_count": 74,
   "metadata": {},
   "outputs": [
    {
     "name": "stdout",
     "output_type": "stream",
     "text": [
      "Epoch 1/8\n",
      "181/181 [==============================] - 4s 5ms/step - loss: 0.6228 - accuracy: 0.6633 - val_loss: 0.5945 - val_accuracy: 0.7082\n",
      "Epoch 2/8\n",
      "181/181 [==============================] - 1s 3ms/step - loss: 0.5884 - accuracy: 0.6931 - val_loss: 0.6022 - val_accuracy: 0.6999\n",
      "Epoch 3/8\n",
      "181/181 [==============================] - 1s 3ms/step - loss: 0.5840 - accuracy: 0.6998 - val_loss: 0.5695 - val_accuracy: 0.7206\n",
      "Epoch 4/8\n",
      "181/181 [==============================] - 1s 3ms/step - loss: 0.5746 - accuracy: 0.7019 - val_loss: 0.5646 - val_accuracy: 0.7178\n",
      "Epoch 5/8\n",
      "181/181 [==============================] - 1s 3ms/step - loss: 0.5629 - accuracy: 0.7180 - val_loss: 0.5832 - val_accuracy: 0.6957\n",
      "Epoch 6/8\n",
      "181/181 [==============================] - 1s 3ms/step - loss: 0.5595 - accuracy: 0.7227 - val_loss: 0.5630 - val_accuracy: 0.7206\n",
      "Epoch 7/8\n",
      "181/181 [==============================] - 1s 3ms/step - loss: 0.5513 - accuracy: 0.7189 - val_loss: 0.5649 - val_accuracy: 0.7192\n",
      "Epoch 8/8\n",
      "181/181 [==============================] - 1s 3ms/step - loss: 0.5465 - accuracy: 0.7220 - val_loss: 0.5673 - val_accuracy: 0.7165\n"
     ]
    },
    {
     "data": {
      "text/plain": [
       "<keras.callbacks.History at 0x210b2766b08>"
      ]
     },
     "execution_count": 74,
     "metadata": {},
     "output_type": "execute_result"
    }
   ],
   "source": [
    "lstm.fit(train_features_reshaped, train_labels, epochs=8, batch_size=32, validation_data=(y_val_features_3d, y_val_labels))"
   ]
  },
  {
   "cell_type": "code",
   "execution_count": 75,
   "metadata": {},
   "outputs": [
    {
     "data": {
      "text/plain": [
       "(1445, 768)"
      ]
     },
     "execution_count": 75,
     "metadata": {},
     "output_type": "execute_result"
    }
   ],
   "source": [
    "test_features.shape"
   ]
  },
  {
   "cell_type": "code",
   "execution_count": 76,
   "metadata": {},
   "outputs": [],
   "source": [
    "test_features_reshape=np.reshape(test_features_2, (-1, 1, 768))"
   ]
  },
  {
   "cell_type": "code",
   "execution_count": 77,
   "metadata": {},
   "outputs": [
    {
     "name": "stdout",
     "output_type": "stream",
     "text": [
      "23/23 [==============================] - 0s 2ms/step - loss: 0.5702 - accuracy: 0.7368\n",
      "Test loss: 0.57024085521698\n",
      "Test accuracy: 0.7368420958518982\n"
     ]
    }
   ],
   "source": [
    "test_loss, test_acc = lstm.evaluate(test_features_reshape, test_labels_2)\n",
    "print('Test loss:', test_loss)\n",
    "print('Test accuracy:', test_acc)"
   ]
  },
  {
   "cell_type": "code",
   "execution_count": 78,
   "metadata": {},
   "outputs": [],
   "source": [
    "pred_label=lstm.predict(test_features_reshape)"
   ]
  },
  {
   "cell_type": "code",
   "execution_count": 79,
   "metadata": {},
   "outputs": [
    {
     "name": "stdout",
     "output_type": "stream",
     "text": [
      "AUC Score: 0.7219271781318306\n"
     ]
    }
   ],
   "source": [
    "auc_score = roc_auc_score(test_labels_2, pred_label)\n",
    "\n",
    "# print AUC score\n",
    "print(\"AUC Score:\", auc_score)"
   ]
  },
  {
   "cell_type": "code",
   "execution_count": 80,
   "metadata": {},
   "outputs": [],
   "source": [
    "pred_label[pred_label >= 0.5] = 1\n",
    "pred_label[pred_label < 0.5] = 0"
   ]
  },
  {
   "cell_type": "code",
   "execution_count": 81,
   "metadata": {},
   "outputs": [
    {
     "name": "stdout",
     "output_type": "stream",
     "text": [
      "              precision    recall  f1-score   support\n",
      "\n",
      "           0       0.74      0.90      0.81       461\n",
      "           1       0.72      0.45      0.55       261\n",
      "\n",
      "    accuracy                           0.74       722\n",
      "   macro avg       0.73      0.67      0.68       722\n",
      "weighted avg       0.73      0.74      0.72       722\n",
      "\n"
     ]
    }
   ],
   "source": [
    "print(classification_report(test_labels_2, pred_label))"
   ]
  },
  {
   "cell_type": "code",
   "execution_count": 82,
   "metadata": {},
   "outputs": [
    {
     "data": {
      "image/png": "[encoded data removed]",
      "text/plain": [
       "<Figure size 576x396 with 2 Axes>"
      ]
     },
     "metadata": {},
     "output_type": "display_data"
    }
   ],
   "source": [
    "conf_matrix = confusion_matrix(test_labels_2, pred_label)\n",
    "print_metrices(conf_matrix)"
   ]
  },
  {
   "cell_type": "markdown",
   "metadata": {},
   "source": [
    "# bidirectional"
   ]
  },
  {
   "cell_type": "code",
   "execution_count": 83,
   "metadata": {},
   "outputs": [
    {
     "name": "stdout",
     "output_type": "stream",
     "text": [
      "Model: \"sequential_2\"\n",
      "_________________________________________________________________\n",
      " Layer (type)                Output Shape              Param #   \n",
      "=================================================================\n",
      " bidirectional (Bidirectiona  (None, 1, 128)           426496    \n",
      " l)                                                              \n",
      "                                                                 \n",
      " bidirectional_1 (Bidirectio  (None, 64)               41216     \n",
      " nal)                                                            \n",
      "                                                                 \n",
      " dense_3 (Dense)             (None, 1)                 65        \n",
      "                                                                 \n",
      "=================================================================\n",
      "Total params: 467,777\n",
      "Trainable params: 467,777\n",
      "Non-trainable params: 0\n",
      "_________________________________________________________________\n"
     ]
    }
   ],
   "source": [
    "from tensorflow.keras.models import Sequential\n",
    "from tensorflow.keras.layers import Dense, Bidirectional, LSTM\n",
    "\n",
    "bilstm = Sequential()\n",
    "\n",
    "bilstm.add(Bidirectional(LSTM(64, return_sequences=True), input_shape=(1,768)))#return_sequences=True argument is set to ensure that the output of the first LSTM layer \n",
    "bilstm.add(Bidirectional(LSTM(32)))\n",
    "bilstm.add(Dense(1, activation='sigmoid'))\n",
    "\n",
    "bilstm.compile(optimizer='adam', loss='binary_crossentropy', metrics=['accuracy'])\n",
    "bilstm.summary()"
   ]
  },
  {
   "cell_type": "code",
   "execution_count": 84,
   "metadata": {},
   "outputs": [
    {
     "name": "stdout",
     "output_type": "stream",
     "text": [
      "Epoch 1/10\n",
      "181/181 [==============================] - 6s 11ms/step - loss: 0.6250 - accuracy: 0.6630 - val_loss: 0.6019 - val_accuracy: 0.6846\n",
      "Epoch 2/10\n",
      "181/181 [==============================] - 1s 5ms/step - loss: 0.5904 - accuracy: 0.6981 - val_loss: 0.5780 - val_accuracy: 0.7095\n",
      "Epoch 3/10\n",
      "181/181 [==============================] - 1s 5ms/step - loss: 0.5781 - accuracy: 0.7035 - val_loss: 0.5649 - val_accuracy: 0.7192\n",
      "Epoch 4/10\n",
      "181/181 [==============================] - 1s 5ms/step - loss: 0.5678 - accuracy: 0.7147 - val_loss: 0.5839 - val_accuracy: 0.6985\n",
      "Epoch 5/10\n",
      "181/181 [==============================] - 1s 5ms/step - loss: 0.5724 - accuracy: 0.7085 - val_loss: 0.5629 - val_accuracy: 0.7344\n",
      "Epoch 6/10\n",
      "181/181 [==============================] - 1s 5ms/step - loss: 0.5612 - accuracy: 0.7159 - val_loss: 0.5603 - val_accuracy: 0.7261\n",
      "Epoch 7/10\n",
      "181/181 [==============================] - 1s 5ms/step - loss: 0.5563 - accuracy: 0.7140 - val_loss: 0.5647 - val_accuracy: 0.7192\n",
      "Epoch 8/10\n",
      "181/181 [==============================] - 1s 5ms/step - loss: 0.5517 - accuracy: 0.7246 - val_loss: 0.5645 - val_accuracy: 0.7178\n",
      "Epoch 9/10\n",
      "181/181 [==============================] - 1s 5ms/step - loss: 0.5488 - accuracy: 0.7282 - val_loss: 0.5624 - val_accuracy: 0.7234\n",
      "Epoch 10/10\n",
      "181/181 [==============================] - 1s 5ms/step - loss: 0.5384 - accuracy: 0.7318 - val_loss: 0.5948 - val_accuracy: 0.6763\n"
     ]
    },
    {
     "data": {
      "text/plain": [
       "<keras.callbacks.History at 0x210af552308>"
      ]
     },
     "execution_count": 84,
     "metadata": {},
     "output_type": "execute_result"
    }
   ],
   "source": [
    "bilstm.fit(train_features_reshaped, train_labels, epochs=10, batch_size=32, validation_data=(y_val_features_3d, y_val_labels))"
   ]
  },
  {
   "cell_type": "code",
   "execution_count": 85,
   "metadata": {},
   "outputs": [
    {
     "name": "stdout",
     "output_type": "stream",
     "text": [
      "23/23 [==============================] - 0s 2ms/step - loss: 0.5933 - accuracy: 0.7064\n",
      "Test loss: 0.5932667255401611\n",
      "Test accuracy: 0.7063711881637573\n"
     ]
    }
   ],
   "source": [
    "test_loss, test_acc = bilstm.evaluate(test_features_reshape, test_labels_2)\n",
    "print('Test loss:', test_loss)\n",
    "print('Test accuracy:', test_acc)"
   ]
  },
  {
   "cell_type": "markdown",
   "metadata": {},
   "source": [
    "# Saving models in disk"
   ]
  },
  {
   "cell_type": "code",
   "execution_count": 91,
   "metadata": {},
   "outputs": [],
   "source": [
    "#import pickle\n",
    "\n",
    "# Assuming you have a trained model named 'model'\n",
    "#model = lr_clf\n",
    "\n",
    "# Save the model as a pickle file\n",
    "#with open('lr_clf1.pkl', 'wb') as file:\n",
    "    #pickle.dump(model, file)"
   ]
  },
  {
   "cell_type": "code",
   "execution_count": 93,
   "metadata": {},
   "outputs": [],
   "source": [
    "#to preserve the functionality of model\n",
    "# Assuming you have a trained model named 'model'\n",
    "#model = bilstm\n",
    "\n",
    "# Save the model using TensorFlow's model saving method\n",
    "#model.save('bilstm.h5')\n",
    "\n",
    "# Load the model\n",
    "#loaded_model = tf.keras.models.load_model('bilstm.h5')\n"
   ]
  },
  {
   "cell_type": "markdown",
   "metadata": {},
   "source": [
    "# for example"
   ]
  },
  {
   "cell_type": "code",
   "execution_count": 110,
   "metadata": {},
   "outputs": [],
   "source": [
    "# load Inception model\n",
    "from keras.applications.vgg16 import VGG16, preprocess_input\n",
    "from tensorflow.keras.applications.inception_v3 import InceptionV3\n",
    "from tensorflow.keras.applications.inception_v3 import preprocess_input, decode_predictions\n",
    "inception = InceptionV3(weights='imagenet')"
   ]
  },
  {
   "cell_type": "code",
   "execution_count": 112,
   "metadata": {},
   "outputs": [],
   "source": [
    "from keras.preprocessing.image import img_to_array\n",
    "from tensorflow.keras.preprocessing import image\n",
    "x = img_to_array(image.load_img('image.jpg', target_size=(299,299))) #convert grey scale of RGB array of (0,255)\n",
    "x = np.array([x]) # converting into list of each x\n",
    "x = preprocess_input(x) #normalize and remove RGB mean range btw[-1,1]\n",
    "preds = inception.predict(x)# predcting probabilty of each calss for the x\n",
    "predicted = decode_predictions(preds, top = 5)[0]"
   ]
  },
  {
   "cell_type": "code",
   "execution_count": 113,
   "metadata": {},
   "outputs": [],
   "source": [
    "data =\"You are too soft\"\n",
    "for j in range(0, 5):\n",
    "    data=data+\" \"+predicted[j][1]"
   ]
  },
  {
   "cell_type": "code",
   "execution_count": 114,
   "metadata": {},
   "outputs": [],
   "source": [
    "dict={'text':[data]}\n",
    "df = pd.DataFrame(dict)# creating a dataframe"
   ]
  },
  {
   "cell_type": "code",
   "execution_count": 115,
   "metadata": {},
   "outputs": [
    {
     "data": {
      "text/plain": [
       "0    You are too soft porcupine echidna wild_boar hog skunk\n",
       "Name: text, dtype: object"
      ]
     },
     "execution_count": 115,
     "metadata": {},
     "output_type": "execute_result"
    }
   ],
   "source": [
    "df['text']"
   ]
  },
  {
   "cell_type": "code",
   "execution_count": 116,
   "metadata": {},
   "outputs": [],
   "source": [
    "tokenized = df['text'].apply((lambda x: tokenize.encode(str(x), add_special_tokens=True)))# work with daatframe\n",
    "    \n",
    "padded = np.array([i + [0]*(max_len-len(i)) for i in tokenized.values])\n",
    "    \n",
    "    \n",
    "    # Extract Attention Masks(tell which token to ignore and to process in form of 0 and 1 for bert model)\n",
    "attention_mask = np.where(padded != 0, 1, 0)\n",
    "\n",
    "    # Here we just convert the data to tensors\n",
    "input_ids = torch.tensor(padded)  \n",
    "attention_mask = torch.tensor(attention_mask)\n",
    "\n",
    "    # no gradient while forwarding propagation\n",
    "with torch.no_grad():\n",
    "    last_hidden_states = bert_model(input_ids, attention_mask=attention_mask)\n",
    "\n",
    "    # Extracting features of the CLS tokens\n",
    "feat = last_hidden_states[0][:,0,:].numpy()"
   ]
  },
  {
   "cell_type": "code",
   "execution_count": 117,
   "metadata": {},
   "outputs": [
    {
     "data": {
      "text/plain": [
       "array([[-5.18614769e-01, -3.64146754e-02, -1.36616632e-01,\n",
       "        -1.78845108e-01, -4.76281136e-01, -1.90157786e-01,\n",
       "         5.16464114e-01,  9.94468808e-01, -3.15183401e-01,\n",
       "         2.26513177e-01,  1.95291594e-01,  4.72990870e-01,\n",
       "        -9.11121294e-02,  4.49635148e-01,  2.08387390e-01,\n",
       "         4.76476043e-01, -4.99904454e-01,  3.02723318e-01,\n",
       "         8.43877196e-01,  1.57614365e-01,  7.05435798e-02,\n",
       "        -7.43011415e-01, -4.30793241e-02,  6.03130087e-03,\n",
       "         3.20856780e-01, -2.62332380e-01,  1.34271711e-01,\n",
       "         2.46067256e-01,  6.51196122e-01, -1.27215028e-01,\n",
       "         1.64565399e-01,  2.89577514e-01,  6.16325662e-02,\n",
       "        -3.04581970e-03,  3.61174852e-01, -3.32573593e-01,\n",
       "         3.70184481e-01, -3.43049049e-01,  2.33247504e-01,\n",
       "         4.46974814e-01, -4.58732992e-01,  3.07818115e-01,\n",
       "         5.59497952e-01, -1.75587490e-01,  2.65560180e-01,\n",
       "        -2.11582765e-01, -2.66633773e+00, -8.72117952e-02,\n",
       "         2.69190848e-01, -5.44557869e-01,  5.86612880e-01,\n",
       "        -3.98409307e-01, -3.39743406e-01,  4.12153393e-01,\n",
       "         1.50761694e-01,  6.95243716e-01, -2.54015326e-01,\n",
       "         3.03901196e-01,  1.32511362e-01,  5.55011332e-01,\n",
       "         1.39733240e-01, -9.96463895e-02, -2.81179279e-01,\n",
       "        -3.47298354e-01,  3.45180407e-02,  6.08809531e-01,\n",
       "        -2.05097675e-01,  5.75845540e-01, -7.25449800e-01,\n",
       "         3.45668085e-02, -6.54450834e-01,  1.44905895e-01,\n",
       "         2.31060058e-01,  2.59285539e-01, -5.88968722e-03,\n",
       "        -4.66292441e-01, -6.01837039e-03, -2.57477194e-01,\n",
       "        -5.52347600e-01, -2.27485731e-01,  6.96302578e-02,\n",
       "         5.87826908e-01,  1.09696247e-01,  3.25772539e-02,\n",
       "        -2.88517084e-02,  4.07851219e-01, -1.49607539e-01,\n",
       "        -4.21790630e-01, -1.08023562e-01,  4.21548426e-01,\n",
       "         1.09041877e-01, -1.19128346e-01,  1.41484126e-01,\n",
       "         1.47924766e-01,  4.50188607e-01,  2.10295931e-01,\n",
       "         2.57873416e-01,  3.73242758e-02,  1.45889908e-01,\n",
       "         1.70786619e-01,  6.75280169e-02,  3.11146230e-01,\n",
       "         4.27046359e-01, -3.35383177e-01,  4.63502407e-01,\n",
       "         2.09800228e-02,  5.54646477e-02, -1.62856430e-01,\n",
       "         5.91437757e-01, -2.39586663e+00,  9.54913199e-02,\n",
       "         4.91408348e-01, -1.31488800e-01, -1.85411051e-01,\n",
       "        -2.32998535e-01, -1.29408062e-01,  7.35818446e-01,\n",
       "        -4.23499137e-01,  1.95416570e-01,  1.00102298e-01,\n",
       "        -4.90915239e-01,  5.32600284e-01, -1.84074417e-01,\n",
       "        -3.65926951e-01,  4.25807908e-02, -2.09897816e-01,\n",
       "         2.12568641e-01, -8.03064257e-02,  7.94215381e-01,\n",
       "         4.39622104e-01,  6.04207158e-01,  7.06280291e-01,\n",
       "        -4.80088919e-01, -5.75256348e-01, -3.51291031e-01,\n",
       "         2.87923038e-01,  7.82413661e-01,  3.21865052e-01,\n",
       "        -1.71400651e-01, -2.82298684e-01, -8.42938364e-01,\n",
       "        -5.32387555e-01, -3.24080324e+00,  6.11123323e-01,\n",
       "         5.08920074e-01,  4.41467762e-03, -2.66428858e-01,\n",
       "         5.52352667e-01, -3.58335525e-01, -1.54941723e-01,\n",
       "         1.03387032e-02, -7.86390454e-02, -1.40667424e-01,\n",
       "         8.24284017e-01, -6.05183989e-02,  4.05143350e-02,\n",
       "        -8.33217874e-02, -9.46726501e-01,  3.49116802e-01,\n",
       "         3.97546679e-01, -7.75529593e-02, -2.37903625e-01,\n",
       "        -5.84729537e-02,  1.05316646e-01, -1.83607042e-01,\n",
       "        -8.32265690e-02,  4.00602072e-01,  4.60836142e-01,\n",
       "        -3.75731021e-01,  4.19879518e-02, -4.23502266e-01,\n",
       "         3.74223381e-01,  1.05385745e+00, -1.86715275e-01,\n",
       "         1.42761022e-01, -6.15371466e-01, -2.35458136e-01,\n",
       "        -4.20551300e-02,  1.55582368e-01,  1.02448203e-01,\n",
       "         3.09501663e-02,  2.20811099e-01,  3.09983462e-01,\n",
       "         4.31190163e-01,  8.90510306e-02, -6.66314960e-02,\n",
       "         4.49922532e-01, -3.23446989e-02, -8.52774158e-02,\n",
       "        -3.84425595e-02,  4.48500574e-01,  2.42899880e-02,\n",
       "         3.61930788e-01,  9.69871402e-01,  7.05977619e-01,\n",
       "         4.22171205e-02, -6.99590519e-02, -4.54846382e-01,\n",
       "         2.92210162e-01,  1.61221206e-01,  6.31655395e-01,\n",
       "        -2.83305317e-01, -1.30349502e-01,  1.20709151e-01,\n",
       "        -8.30265820e-01,  4.01945162e+00,  7.15754181e-02,\n",
       "        -3.81950080e-01,  6.13056779e-01,  5.01514316e-01,\n",
       "        -1.85966149e-01,  2.43780389e-02, -4.66712952e-01,\n",
       "        -7.47136250e-02, -1.30605161e-01,  1.45047024e-01,\n",
       "        -1.07351147e-01,  2.98993558e-01, -1.40741199e-01,\n",
       "         9.76132601e-02,  7.00837076e-02,  4.90423292e-01,\n",
       "        -5.43107092e-01,  1.58797264e-01,  3.30331922e-01,\n",
       "         1.99749708e-01, -1.59502476e-01,  2.20089495e-01,\n",
       "        -2.74912626e-01, -1.11104548e+00,  4.69803929e-01,\n",
       "        -3.96296531e-01, -3.36256117e-01,  3.59019041e-01,\n",
       "        -2.77401686e-01,  1.96451575e-01, -2.10992768e-02,\n",
       "        -4.02967870e-01,  5.27429402e-01, -1.94143876e-03,\n",
       "         2.00335085e-01,  3.50978166e-01,  1.11743577e-01,\n",
       "        -2.74879366e-01, -7.45920539e-02, -3.16402644e-01,\n",
       "        -1.01815730e-01, -2.90504932e-01,  3.65840733e-01,\n",
       "        -3.32663953e-02,  5.58932841e-01, -4.93513882e-01,\n",
       "         2.79851139e-01, -7.26631284e-01,  4.76371348e-01,\n",
       "         5.65783009e-02, -2.28269268e-02, -1.55094504e-01,\n",
       "        -2.63799995e-01, -2.30430752e-01, -2.35667437e-01,\n",
       "        -5.81454858e-03,  2.59074628e-01, -3.88081893e-02,\n",
       "        -2.49301389e-01, -2.02609897e-01, -2.31909841e-01,\n",
       "        -4.69779730e-01, -4.35974449e-01, -2.41609633e-01,\n",
       "         2.97923610e-02, -3.82616132e-01, -1.21190779e-01,\n",
       "        -3.66820836e+00, -3.27917099e-01,  1.92728713e-01,\n",
       "         4.52544242e-01,  4.31862324e-01, -3.48743200e-01,\n",
       "        -2.23769695e-01,  5.79339921e-01,  5.73409379e-01,\n",
       "        -3.29652190e-01,  3.61571342e-01, -1.66105956e-01,\n",
       "        -5.95124543e-01,  5.10688663e-01, -1.43839225e-01,\n",
       "         2.42253989e-01,  3.17361414e-01,  2.94868112e-01,\n",
       "         3.72892357e-02,  3.62282842e-02, -3.31380606e-01,\n",
       "        -5.04022166e-02, -3.20025325e-01,  1.14816323e-01,\n",
       "         2.92812973e-01,  1.89034864e-01, -5.26938021e-01,\n",
       "        -3.53766978e-02,  3.22240442e-01, -4.33621347e-01,\n",
       "         2.53162980e-01,  6.37669861e-02,  1.71970367e-01,\n",
       "        -3.96190435e-02, -1.06547534e+00, -2.10817385e+00,\n",
       "         3.59661162e-01, -7.46872649e-02, -5.16331136e-01,\n",
       "        -2.95943946e-01, -4.53946471e-01,  7.99549147e-02,\n",
       "         2.41420209e-01, -5.93803108e-01,  2.15839878e-01,\n",
       "        -4.50010747e-02, -3.30710769e-01,  4.54055458e-01,\n",
       "        -2.68453211e-01,  3.05368006e-01,  1.46193266e-01,\n",
       "         5.73298633e-01, -7.84703046e-02, -3.29177141e-01,\n",
       "         4.09950793e-01,  2.21995503e-01,  3.20124269e-01,\n",
       "        -1.04683474e-01, -2.90797919e-01,  2.81375200e-01,\n",
       "         1.82771295e-01, -2.00469911e-01, -1.45813584e-01,\n",
       "        -1.19708546e-01,  3.13755631e-01, -8.05929303e-05,\n",
       "         8.89269263e-02,  3.25706184e-01,  5.87775484e-02,\n",
       "        -5.52694201e-01, -4.76477683e-01, -7.63218924e-02,\n",
       "         1.58661127e-01,  6.51235342e-01,  4.06441063e-01,\n",
       "         2.33275667e-01,  3.68901551e-01,  2.78234214e-01,\n",
       "         9.07737911e-02,  9.12267983e-01,  3.01147640e-01,\n",
       "         1.23492830e-01, -2.79331952e-01, -1.79198533e-01,\n",
       "         2.25381121e-01, -2.90914893e-01,  2.29086392e-02,\n",
       "         7.81135798e-01, -1.81346178e-01, -3.63646336e-02,\n",
       "         5.14807180e-02,  6.76403284e-01,  2.67323494e-01,\n",
       "         6.24312796e-02, -5.97275719e-02,  9.38420355e-01,\n",
       "        -2.58286685e-01,  1.72142208e-01,  1.84634067e-02,\n",
       "         3.57339084e-01, -4.25837308e-01,  2.03993067e-01,\n",
       "        -4.26202387e-01,  5.14806882e-02,  1.63254768e-01,\n",
       "        -4.39279228e-01,  7.64374077e-01, -2.43532881e-01,\n",
       "        -1.15635407e+00, -3.90539289e-01,  4.93903272e-03,\n",
       "        -8.03845525e-01,  1.43253922e-01,  5.45747519e-01,\n",
       "        -1.30582750e-01, -3.74515951e-02, -1.70696229e-01,\n",
       "        -3.68580580e-01,  2.46762440e-01, -8.05133700e-01,\n",
       "        -1.51632905e-01, -1.53557301e-01, -2.81902105e-02,\n",
       "        -6.87878191e-01, -5.02444878e-02, -1.72945261e-01,\n",
       "         4.11516845e-01, -2.62103975e-01,  5.01450658e-01,\n",
       "         7.24762902e-02,  3.33159894e-01,  2.48591587e-01,\n",
       "        -9.68390584e-01,  3.02181989e-02, -4.32012558e-01,\n",
       "         2.13343889e-01, -1.27772823e-01, -2.45188788e-01,\n",
       "        -2.40304336e-01,  6.22246191e-02, -3.63040626e-01,\n",
       "        -4.59314138e-02,  3.19097936e-01,  2.78714538e-01,\n",
       "         3.00615042e-01, -1.47535324e-01, -4.97960627e-01,\n",
       "        -8.60822573e-02,  6.87647820e-01,  9.41414714e-01,\n",
       "        -2.50922114e-01,  2.05003619e-01,  7.27565050e-01,\n",
       "         2.43105561e-01,  2.75373667e-01,  3.31727386e-01,\n",
       "         3.98444206e-01,  3.88739645e-01, -2.09074274e-01,\n",
       "        -2.40895510e-01, -9.73652229e-02,  2.48357818e-01,\n",
       "        -2.49257714e-01, -3.64248276e-01,  3.78361970e-01,\n",
       "        -5.36380000e-02, -5.89764178e-01, -2.36459494e-01,\n",
       "        -7.21148729e-01, -1.47043437e-01, -3.28323036e-01,\n",
       "        -1.88041121e-01,  3.22540969e-01,  1.27286747e-01,\n",
       "        -8.46607983e-02, -3.42589378e-01,  4.70789485e-02,\n",
       "        -5.41228831e-01,  2.53547072e-01, -2.95589030e-01,\n",
       "         4.27568048e-01, -3.14553678e-01, -4.73862708e-01,\n",
       "        -2.89051592e-01,  5.06550550e-01, -8.20223272e-01,\n",
       "        -4.07269597e-01, -9.87467840e-02, -5.54082036e-01,\n",
       "         4.14559990e-02, -1.92863867e-01, -2.88639784e-01,\n",
       "        -3.15208919e-02, -1.22784391e-01, -5.92188060e-01,\n",
       "        -1.01015672e-01,  1.12241752e-01, -1.52761197e+00,\n",
       "        -9.13463309e-02,  2.80524611e-01, -2.43135422e-01,\n",
       "         9.07559633e-01, -5.53821445e-01, -5.70864022e-01,\n",
       "         5.91008544e-01, -1.36144981e-01,  1.14463128e-01,\n",
       "        -2.90000945e-01, -3.68613899e-01, -5.21544456e-01,\n",
       "         2.01146543e-01, -1.22015834e-01,  4.61428873e-02,\n",
       "        -1.10989936e-01, -2.65348434e-01, -9.26308930e-02,\n",
       "        -2.19913870e-01, -1.41275793e-01,  9.12928998e-01,\n",
       "         1.91855520e-01, -3.29876304e-01,  1.10018998e-03,\n",
       "        -2.64396727e-01,  1.15182146e-01,  2.73186356e-01,\n",
       "        -6.11621737e-01,  2.21318156e-01,  2.34786078e-01,\n",
       "        -4.28921998e-01, -6.64084077e-01,  6.13011122e-01,\n",
       "         9.93247032e-02,  4.35457706e-01,  5.57423353e-01,\n",
       "        -1.08994357e-01,  7.04684317e-01,  3.43065470e-01,\n",
       "        -2.04655230e-01,  3.88893843e-01,  3.38015676e-01,\n",
       "         3.07190865e-02,  6.01286530e-01, -3.79620075e-01,\n",
       "        -4.75688875e-01,  1.22214481e-01,  3.37887198e-01,\n",
       "        -4.58946854e-01, -6.49306923e-04, -5.46439318e-03,\n",
       "        -2.09813640e-01, -3.72188985e-01,  1.53269932e-01,\n",
       "         9.66690779e-02, -6.21814013e-01,  2.08671331e-01,\n",
       "        -5.26641309e-01, -2.32046351e-01,  8.41907263e-02,\n",
       "        -3.00581545e-01, -3.25223744e-01, -1.39350444e-03,\n",
       "        -1.09747745e-01, -2.44451761e-01,  3.16792518e-01,\n",
       "        -1.02709688e-01, -3.22165757e-01, -5.34775779e-02,\n",
       "         2.88730919e-01,  6.69564962e-01, -4.93149489e-01,\n",
       "         6.74877763e-01,  1.48739681e-01, -1.44075826e-01,\n",
       "        -3.45389321e-02,  9.78456736e-02,  3.57532024e-01,\n",
       "        -5.59128344e-01,  4.92626429e-01, -4.82183844e-01,\n",
       "        -7.11703718e-01,  3.27801347e-01, -1.05699813e+00,\n",
       "         2.35635296e-01, -2.88477391e-01, -3.44353467e-01,\n",
       "         3.26661378e-01,  3.62455219e-01, -3.28748763e-01,\n",
       "        -4.68684047e-01,  3.07650894e-01, -1.51106298e-01,\n",
       "        -7.52007216e-02,  1.84541233e-02,  8.00885856e-02,\n",
       "        -9.78173390e-02,  2.26943381e-02,  1.57500729e-01,\n",
       "         1.54378295e-01,  5.85478544e-01,  3.12465817e-01,\n",
       "        -2.60596991e-01,  1.84985295e-01,  9.00808573e-02,\n",
       "         5.06377220e-01, -1.99593782e-01, -2.64974326e-01,\n",
       "         1.38979912e-01,  1.31248862e-01,  2.16124967e-01,\n",
       "        -1.10705189e-01, -1.23378947e-01, -9.74825397e-02,\n",
       "        -4.25489664e-01,  1.16698243e-01, -2.39242911e-01,\n",
       "         2.28146243e+00,  1.68276861e-01,  1.38728797e-01,\n",
       "        -4.66653854e-01,  3.99663270e-01,  2.24255964e-01,\n",
       "         1.44450888e-01,  1.15406215e-01, -3.39642912e-01,\n",
       "         3.35094124e-01,  1.14236154e-01,  3.52573469e-02,\n",
       "         2.94148922e-01, -3.60781550e-01,  7.04310596e-01,\n",
       "         5.19183397e-01,  2.46514589e-01, -4.64190453e-01,\n",
       "        -3.29001963e-01,  1.73384815e-01, -1.11149669e+00,\n",
       "         3.81452233e-01,  3.60133618e-01, -2.20932364e-02,\n",
       "        -2.03868374e-02,  4.45192307e-02, -4.31733988e-02,\n",
       "        -4.35054749e-01,  8.71397331e-02,  1.42475560e-01,\n",
       "        -4.49054152e-01,  1.71497628e-01,  5.53186119e-01,\n",
       "         1.21521437e+00, -2.20789090e-02,  1.86855391e-01,\n",
       "         1.88508317e-01, -3.15364376e-02, -3.43121588e-01,\n",
       "         6.08237922e-01,  1.56862773e-02, -6.38828456e-01,\n",
       "         9.00501251e-01, -5.16128093e-02,  2.83273578e-01,\n",
       "         4.57848877e-01, -4.77273166e-02, -5.19674480e-01,\n",
       "         4.42535073e-01,  1.92575634e-01, -4.44223434e-01,\n",
       "        -2.26036668e-01, -3.29483479e-01,  1.91558033e-01,\n",
       "        -7.95891583e-02, -2.66439971e-02,  7.25069791e-02,\n",
       "        -3.35329592e-01, -2.32270181e-01,  3.29446256e-01,\n",
       "        -3.61383557e-01,  2.41314873e-01, -1.62178241e-02,\n",
       "        -1.77771449e-01,  1.85754925e-01, -2.12873697e-01,\n",
       "        -2.96056926e-01,  1.85025916e-01, -5.06728590e-01,\n",
       "        -4.24061388e-01,  3.43361646e-01,  2.81849682e-01,\n",
       "         1.84189409e-01,  2.01662511e-01,  4.41257030e-01,\n",
       "         8.62207636e-03,  5.72821498e-01, -2.22662210e-01,\n",
       "        -4.01212186e-01, -2.96385026e+00,  8.62803534e-02,\n",
       "         5.39409995e-01, -1.80951640e-01, -3.25581372e-01,\n",
       "         6.55195415e-01,  2.22491339e-01,  1.86864585e-01,\n",
       "         1.74040809e-01, -2.70912081e-01, -3.85088362e-02,\n",
       "         4.49135810e-01,  1.81330711e-01, -5.23863249e-02,\n",
       "        -1.48174971e-01, -8.76507908e-02,  3.03361624e-01,\n",
       "        -6.27244651e-01, -5.69412053e-01,  6.16462864e-02,\n",
       "        -1.56367958e-01, -1.09891109e-01, -5.30859709e-01,\n",
       "        -1.69971868e-01, -6.57853901e-01,  1.15752585e-01,\n",
       "         4.47864354e-01, -3.64955783e-01, -1.55155152e-01,\n",
       "         2.61825860e-01, -6.70486167e-02, -3.31356049e-01,\n",
       "        -1.68071017e-01,  2.01875895e-01,  9.47515666e-03,\n",
       "         1.86397761e-01, -5.80985010e-01,  8.78488719e-02,\n",
       "         3.48957986e-01, -1.44824386e-01,  6.78811818e-02,\n",
       "         5.38274169e-01, -4.43433896e-02,  3.72082107e-02,\n",
       "        -7.47593343e-02, -1.09918043e-01,  4.96163905e-01,\n",
       "        -1.67948619e-01,  8.95660639e-01, -4.55767244e-01,\n",
       "         2.40956210e-02,  2.23104768e-02,  1.17902532e-01,\n",
       "         1.04222648e-01, -3.35930049e-01,  2.01799423e-01,\n",
       "         4.76090848e-01,  3.46858859e-01,  4.71691415e-02,\n",
       "        -9.97402370e-01,  2.53293455e-01,  3.74131113e-01,\n",
       "        -7.13947475e-01,  4.13298279e-01,  1.20076597e-01,\n",
       "        -3.01968843e-01, -1.29747912e-02,  3.88068765e-01,\n",
       "         4.89153326e-01, -4.99068826e-01, -1.90392584e-01,\n",
       "        -2.26274982e-01,  4.17949617e-01,  2.57059485e-01,\n",
       "         2.21133884e-02, -2.47872144e-01,  5.15641928e-01,\n",
       "         5.11729658e-01,  4.32370663e-01,  8.45908970e-02,\n",
       "         7.51468986e-02, -5.29657826e-02, -3.15100253e-01,\n",
       "         1.78422153e-01,  1.87993571e-01, -7.31822348e+00,\n",
       "        -3.79998803e-01,  1.38073862e-01,  1.48338109e-01,\n",
       "         9.70426276e-02, -5.70068479e-01, -9.11486298e-02,\n",
       "        -4.50445086e-01, -6.44594058e-02,  2.72645205e-02,\n",
       "         3.74559432e-01,  2.21763238e-01, -1.44088715e-01,\n",
       "        -4.29417342e-01,  1.34345293e-01,  6.28895983e-02]], dtype=float32)"
      ]
     },
     "execution_count": 117,
     "metadata": {},
     "output_type": "execute_result"
    }
   ],
   "source": [
    "feat"
   ]
  },
  {
   "cell_type": "code",
   "execution_count": 94,
   "metadata": {},
   "outputs": [],
   "source": [
    "def check(op):\n",
    "    if op>= 0.44:\n",
    "        op=1\n",
    "    else:\n",
    "        op=0;\n",
    "    return op "
   ]
  },
  {
   "cell_type": "code",
   "execution_count": 118,
   "metadata": {},
   "outputs": [],
   "source": [
    "op1=check(lr_clf.predict(feat))#logistic model"
   ]
  },
  {
   "cell_type": "code",
   "execution_count": 119,
   "metadata": {},
   "outputs": [
    {
     "data": {
      "text/plain": [
       "1"
      ]
     },
     "execution_count": 119,
     "metadata": {},
     "output_type": "execute_result"
    }
   ],
   "source": [
    "op1"
   ]
  },
  {
   "cell_type": "code",
   "execution_count": 97,
   "metadata": {},
   "outputs": [],
   "source": [
    "op2=check(svm.predict(feat))#SVM  model"
   ]
  },
  {
   "cell_type": "code",
   "execution_count": 111,
   "metadata": {},
   "outputs": [],
   "source": [
    "op3=check(rfm.predict(feat))#rfm model"
   ]
  },
  {
   "cell_type": "code",
   "execution_count": 112,
   "metadata": {},
   "outputs": [],
   "source": [
    "op4=check(knn.predict(feat))#KNN model"
   ]
  },
  {
   "cell_type": "code",
   "execution_count": 113,
   "metadata": {},
   "outputs": [],
   "source": [
    "op5=check(ann.predict(feat))#ann model"
   ]
  },
  {
   "cell_type": "code",
   "execution_count": 114,
   "metadata": {},
   "outputs": [],
   "source": [
    "feat_reshaped = np.reshape(feat, (-1, 1, 768)) # for 3d shape"
   ]
  },
  {
   "cell_type": "code",
   "execution_count": 115,
   "metadata": {},
   "outputs": [],
   "source": [
    "op6=check(lstm.predict(feat_reshaped))#logistic model"
   ]
  },
  {
   "cell_type": "code",
   "execution_count": 98,
   "metadata": {},
   "outputs": [
    {
     "data": {
      "text/plain": [
       "1"
      ]
     },
     "execution_count": 98,
     "metadata": {},
     "output_type": "execute_result"
    }
   ],
   "source": [
    "op2"
   ]
  },
  {
   "cell_type": "code",
   "execution_count": 117,
   "metadata": {},
   "outputs": [],
   "source": [
    "op7=check(bilstm.predict(feat_reshaped))#logistic model"
   ]
  },
  {
   "cell_type": "markdown",
   "metadata": {},
   "source": [
    "# Testing part"
   ]
  },
  {
   "cell_type": "code",
   "execution_count": 120,
   "metadata": {},
   "outputs": [
    {
     "name": "stdout",
     "output_type": "stream",
     "text": [
      "1\n",
      "1\n",
      "1\n"
     ]
    }
   ],
   "source": [
    "print(op7)\n",
    "print(op5)\n",
    "\n",
    "print(op6)"
   ]
  },
  {
   "cell_type": "code",
   "execution_count": 1,
   "metadata": {},
   "outputs": [
    {
     "name": "stdout",
     "output_type": "stream",
     "text": [
      "Requirement already satisfied: streamlit in c:\\users\\acer\\anaconda3\\lib\\site-packages (1.22.0)\n",
      "Requirement already satisfied: altair<5,>=3.2.0 in c:\\users\\acer\\anaconda3\\lib\\site-packages (from streamlit) (4.2.2)\n",
      "Requirement already satisfied: pillow>=6.2.0 in c:\\users\\acer\\anaconda3\\lib\\site-packages (from streamlit) (7.0.0)\n",
      "Requirement already satisfied: tornado>=6.0.3 in c:\\users\\acer\\anaconda3\\lib\\site-packages (from streamlit) (6.0.3)\n",
      "Requirement already satisfied: numpy in c:\\users\\acer\\anaconda3\\lib\\site-packages (from streamlit) (1.21.6)\n",
      "Requirement already satisfied: protobuf<4,>=3.12 in c:\\users\\acer\\anaconda3\\lib\\site-packages (from streamlit) (3.20.0)\n",
      "Requirement already satisfied: validators>=0.2 in c:\\users\\acer\\anaconda3\\lib\\site-packages (from streamlit) (0.20.0)\n",
      "Requirement already satisfied: blinker>=1.0.0 in c:\\users\\acer\\anaconda3\\lib\\site-packages (from streamlit) (1.6.2)\n",
      "Requirement already satisfied: tenacity<9,>=8.0.0 in c:\\users\\acer\\anaconda3\\lib\\site-packages (from streamlit) (8.2.2)\n",
      "Requirement already satisfied: click>=7.0 in c:\\users\\acer\\anaconda3\\lib\\site-packages (from streamlit) (7.0)\n",
      "Requirement already satisfied: importlib-metadata>=1.4 in c:\\users\\acer\\anaconda3\\lib\\site-packages (from streamlit) (4.11.3)\n",
      "Requirement already satisfied: python-dateutil in c:\\users\\acer\\anaconda3\\lib\\site-packages (from streamlit) (2.8.1)\n",
      "Requirement already satisfied: gitpython!=3.1.19 in c:\\users\\acer\\anaconda3\\lib\\site-packages (from streamlit) (3.1.31)\n",
      "Requirement already satisfied: rich>=10.11.0 in c:\\users\\acer\\anaconda3\\lib\\site-packages (from streamlit) (13.3.5)\n",
      "Requirement already satisfied: toml in c:\\users\\acer\\anaconda3\\lib\\site-packages (from streamlit) (0.10.2)\n",
      "Requirement already satisfied: pandas<3,>=0.25 in c:\\users\\acer\\anaconda3\\lib\\site-packages (from streamlit) (1.0.1)\n",
      "Requirement already satisfied: typing-extensions>=3.10.0.0 in c:\\users\\acer\\anaconda3\\lib\\site-packages (from streamlit) (4.4.0)\n",
      "Requirement already satisfied: cachetools>=4.0 in c:\\users\\acer\\anaconda3\\lib\\site-packages (from streamlit) (5.0.0)\n",
      "Requirement already satisfied: requests>=2.4 in c:\\users\\acer\\anaconda3\\lib\\site-packages (from streamlit) (2.22.0)\n",
      "Requirement already satisfied: pydeck>=0.1.dev5 in c:\\users\\acer\\anaconda3\\lib\\site-packages (from streamlit) (0.8.1b0)\n",
      "Requirement already satisfied: pympler>=0.9 in c:\\users\\acer\\anaconda3\\lib\\site-packages (from streamlit) (1.0.1)\n",
      "Requirement already satisfied: watchdog in c:\\users\\acer\\anaconda3\\lib\\site-packages (from streamlit) (0.10.2)\n",
      "Requirement already satisfied: pyarrow>=4.0 in c:\\users\\acer\\anaconda3\\lib\\site-packages (from streamlit) (12.0.0)\n",
      "Requirement already satisfied: tzlocal>=1.1 in c:\\users\\acer\\anaconda3\\lib\\site-packages (from streamlit) (5.0.1)\n",
      "Requirement already satisfied: packaging>=14.1 in c:\\users\\acer\\anaconda3\\lib\\site-packages (from streamlit) (23.0)\n",
      "Requirement already satisfied: jinja2 in c:\\users\\acer\\anaconda3\\lib\\site-packages (from altair<5,>=3.2.0->streamlit) (2.11.1)\n",
      "Requirement already satisfied: toolz in c:\\users\\acer\\anaconda3\\lib\\site-packages (from altair<5,>=3.2.0->streamlit) (0.10.0)\n",
      "Requirement already satisfied: jsonschema>=3.0 in c:\\users\\acer\\anaconda3\\lib\\site-packages (from altair<5,>=3.2.0->streamlit) (3.2.0)\n",
      "Requirement already satisfied: entrypoints in c:\\users\\acer\\anaconda3\\lib\\site-packages (from altair<5,>=3.2.0->streamlit) (0.3)\n",
      "Requirement already satisfied: gitdb<5,>=4.0.1 in c:\\users\\acer\\anaconda3\\lib\\site-packages (from gitpython!=3.1.19->streamlit) (4.0.10)\n",
      "Requirement already satisfied: zipp>=0.5 in c:\\users\\acer\\anaconda3\\lib\\site-packages (from importlib-metadata>=1.4->streamlit) (2.2.0)\n",
      "Requirement already satisfied: pytz>=2017.2 in c:\\users\\acer\\anaconda3\\lib\\site-packages (from pandas<3,>=0.25->streamlit) (2019.3)\n",
      "Requirement already satisfied: six>=1.5 in c:\\users\\acer\\anaconda3\\lib\\site-packages (from python-dateutil->streamlit) (1.14.0)\n",
      "Requirement already satisfied: urllib3!=1.25.0,!=1.25.1,<1.26,>=1.21.1 in c:\\users\\acer\\anaconda3\\lib\\site-packages (from requests>=2.4->streamlit) (1.25.8)\n",
      "Requirement already satisfied: chardet<3.1.0,>=3.0.2 in c:\\users\\acer\\anaconda3\\lib\\site-packages (from requests>=2.4->streamlit) (3.0.4)\n",
      "Requirement already satisfied: certifi>=2017.4.17 in c:\\users\\acer\\anaconda3\\lib\\site-packages (from requests>=2.4->streamlit) (2019.11.28)\n",
      "Requirement already satisfied: idna<2.9,>=2.5 in c:\\users\\acer\\anaconda3\\lib\\site-packages (from requests>=2.4->streamlit) (2.8)\n",
      "Requirement already satisfied: markdown-it-py<3.0.0,>=2.2.0 in c:\\users\\acer\\anaconda3\\lib\\site-packages (from rich>=10.11.0->streamlit) (2.2.0)\n",
      "Requirement already satisfied: pygments<3.0.0,>=2.13.0 in c:\\users\\acer\\anaconda3\\lib\\site-packages (from rich>=10.11.0->streamlit) (2.15.1)\n",
      "Requirement already satisfied: tzdata in c:\\users\\acer\\anaconda3\\lib\\site-packages (from tzlocal>=1.1->streamlit) (2023.3)\n",
      "Requirement already satisfied: backports.zoneinfo in c:\\users\\acer\\anaconda3\\lib\\site-packages (from tzlocal>=1.1->streamlit) (0.2.1)\n",
      "Requirement already satisfied: decorator>=3.4.0 in c:\\users\\acer\\anaconda3\\lib\\site-packages (from validators>=0.2->streamlit) (4.4.1)\n",
      "Requirement already satisfied: pathtools>=0.1.1 in c:\\users\\acer\\anaconda3\\lib\\site-packages (from watchdog->streamlit) (0.1.2)\n",
      "Requirement already satisfied: smmap<6,>=3.0.1 in c:\\users\\acer\\anaconda3\\lib\\site-packages (from gitdb<5,>=4.0.1->gitpython!=3.1.19->streamlit) (5.0.0)\n",
      "Requirement already satisfied: MarkupSafe>=0.23 in c:\\users\\acer\\anaconda3\\lib\\site-packages (from jinja2->altair<5,>=3.2.0->streamlit) (1.1.1)\n",
      "Requirement already satisfied: setuptools in c:\\users\\acer\\anaconda3\\lib\\site-packages (from jsonschema>=3.0->altair<5,>=3.2.0->streamlit) (45.2.0.post20200210)\n",
      "Requirement already satisfied: pyrsistent>=0.14.0 in c:\\users\\acer\\anaconda3\\lib\\site-packages (from jsonschema>=3.0->altair<5,>=3.2.0->streamlit) (0.15.7)\n",
      "Requirement already satisfied: attrs>=17.4.0 in c:\\users\\acer\\anaconda3\\lib\\site-packages (from jsonschema>=3.0->altair<5,>=3.2.0->streamlit) (19.3.0)\n",
      "Requirement already satisfied: mdurl~=0.1 in c:\\users\\acer\\anaconda3\\lib\\site-packages (from markdown-it-py<3.0.0,>=2.2.0->rich>=10.11.0->streamlit) (0.1.2)\n",
      "Note: you may need to restart the kernel to use updated packages.\n"
     ]
    },
    {
     "name": "stderr",
     "output_type": "stream",
     "text": [
      "WARNING: Ignoring invalid distribution -umpy (c:\\users\\acer\\anaconda3\\lib\\site-packages)\n",
      "WARNING: Ignoring invalid distribution -orchvision (c:\\users\\acer\\anaconda3\\lib\\site-packages)\n",
      "WARNING: Ignoring invalid distribution -umpy (c:\\users\\acer\\anaconda3\\lib\\site-packages)\n",
      "WARNING: Ignoring invalid distribution -orchvision (c:\\users\\acer\\anaconda3\\lib\\site-packages)\n",
      "WARNING: Ignoring invalid distribution -umpy (c:\\users\\acer\\anaconda3\\lib\\site-packages)\n",
      "WARNING: Ignoring invalid distribution -orchvision (c:\\users\\acer\\anaconda3\\lib\\site-packages)\n",
      "WARNING: Ignoring invalid distribution -umpy (c:\\users\\acer\\anaconda3\\lib\\site-packages)\n",
      "WARNING: Ignoring invalid distribution -orchvision (c:\\users\\acer\\anaconda3\\lib\\site-packages)\n",
      "WARNING: Ignoring invalid distribution -umpy (c:\\users\\acer\\anaconda3\\lib\\site-packages)\n",
      "WARNING: Ignoring invalid distribution -orchvision (c:\\users\\acer\\anaconda3\\lib\\site-packages)\n",
      "WARNING: Ignoring invalid distribution -umpy (c:\\users\\acer\\anaconda3\\lib\\site-packages)\n",
      "WARNING: Ignoring invalid distribution -orchvision (c:\\users\\acer\\anaconda3\\lib\\site-packages)\n",
      "\n",
      "[notice] A new release of pip is available: 23.0.1 -> 23.1.2\n",
      "[notice] To update, run: python.exe -m pip install --upgrade pip\n"
     ]
    }
   ],
   "source": [
    "#pip install streamlit"
   ]
  }
 ],
 "metadata": {
  "kernelspec": {
   "display_name": "Python 3",
   "language": "python",
   "name": "python3"
  },
  "language_info": {
   "codemirror_mode": {
    "name": "ipython",
    "version": 3
   },
   "file_extension": ".py",
   "mimetype": "text/x-python",
   "name": "python",
   "nbconvert_exporter": "python",
   "pygments_lexer": "ipython3",
   "version": "3.7.6"
  }
 },
 "nbformat": 4,
 "nbformat_minor": 4
}
