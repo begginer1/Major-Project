{
 "cells": [
  {
   "cell_type": "code",
   "execution_count": 6,
   "metadata": {},
   "outputs": [],
   "source": [
    "data_dir = \"C:/Users/ACER/Untitled Folder 1/data/\"\n",
    "train_path = data_dir + \"train.jsonl\"\n",
    "test_path = data_dir + \"test.jsonl\"\n",
    "dev_path = data_dir + \"dev.jsonl\""
   ]
  },
  {
   "cell_type": "code",
   "execution_count": 7,
   "metadata": {},
   "outputs": [
    {
     "data": {
      "text/html": [
       "<div>\n",
       "<style scoped>\n",
       "    .dataframe tbody tr th:only-of-type {\n",
       "        vertical-align: middle;\n",
       "    }\n",
       "\n",
       "    .dataframe tbody tr th {\n",
       "        vertical-align: top;\n",
       "    }\n",
       "\n",
       "    .dataframe thead th {\n",
       "        text-align: right;\n",
       "    }\n",
       "</style>\n",
       "<table border=\"1\" class=\"dataframe\">\n",
       "  <thead>\n",
       "    <tr style=\"text-align: right;\">\n",
       "      <th></th>\n",
       "      <th>id</th>\n",
       "      <th>img</th>\n",
       "      <th>text</th>\n",
       "    </tr>\n",
       "  </thead>\n",
       "  <tbody>\n",
       "    <tr>\n",
       "      <th>0</th>\n",
       "      <td>16395</td>\n",
       "      <td>img/16395.png</td>\n",
       "      <td>handjobs sold seperately</td>\n",
       "    </tr>\n",
       "    <tr>\n",
       "      <th>1</th>\n",
       "      <td>37405</td>\n",
       "      <td>img/37405.png</td>\n",
       "      <td>introducing fidget spinner for women</td>\n",
       "    </tr>\n",
       "    <tr>\n",
       "      <th>2</th>\n",
       "      <td>94180</td>\n",
       "      <td>img/94180.png</td>\n",
       "      <td>happy pride month let's go beat up lesbians</td>\n",
       "    </tr>\n",
       "    <tr>\n",
       "      <th>3</th>\n",
       "      <td>54321</td>\n",
       "      <td>img/54321.png</td>\n",
       "      <td>laughs in [majority of u.s crime rate]</td>\n",
       "    </tr>\n",
       "    <tr>\n",
       "      <th>4</th>\n",
       "      <td>97015</td>\n",
       "      <td>img/97015.png</td>\n",
       "      <td>finds out those 72 virgins.. are goats</td>\n",
       "    </tr>\n",
       "  </tbody>\n",
       "</table>\n",
       "</div>"
      ],
      "text/plain": [
       "      id            img                                         text\n",
       "0  16395  img/16395.png                     handjobs sold seperately\n",
       "1  37405  img/37405.png         introducing fidget spinner for women\n",
       "2  94180  img/94180.png  happy pride month let's go beat up lesbians\n",
       "3  54321  img/54321.png       laughs in [majority of u.s crime rate]\n",
       "4  97015  img/97015.png       finds out those 72 virgins.. are goats"
      ]
     },
     "execution_count": 7,
     "metadata": {},
     "output_type": "execute_result"
    }
   ],
   "source": [
    "import pandas as pd\n",
    "import numpy as np\n",
    "from tensorflow.keras.preprocessing import image\n",
    "df_test = pd.read_json(test_path, lines=True)\n",
    "df_test.head()"
   ]
  },
  {
   "cell_type": "code",
   "execution_count": 15,
   "metadata": {},
   "outputs": [],
   "source": [
    "df=df_test\n",
    "df=df.drop(['img'], axis=1)"
   ]
  },
  {
   "cell_type": "code",
   "execution_count": 36,
   "metadata": {},
   "outputs": [
    {
     "name": "stdout",
     "output_type": "stream",
     "text": [
      "Images moved successfully.\n"
     ]
    }
   ],
   "source": [
    "import os\n",
    "import shutil\n",
    "from collections import Counter\n",
    "# Source and destination folders\n",
    "source_folder = 'C:/Users/ACER/Untitled Folder 1/data/img'\n",
    "destination_folder = 'C:/Users/ACER/Untitled Folder 1/data/test'\n",
    "\n",
    "# List all files in the source folder\n",
    "files = os.listdir(source_folder)\n",
    "\n",
    "# Set to store unique image names\n",
    "unique_names = set(df['id'])\n",
    "freq=Counter(unique_names)\n",
    "\n",
    "# Iterate through the files\n",
    "for file in files:\n",
    "    # Check if the file is an image (e.g., JPEG, PNG, etc.)\n",
    "    \n",
    "    # Extract the base name without the file extension\n",
    "    name = os.path.splitext(file)[0]\n",
    "    # Check if the name is unique\n",
    "    if name in freq.keys():\n",
    "        print(name)\n",
    "        # Build the file paths for the source and destination\n",
    "        source_path = os.path.join(source_folder, file)\n",
    "        destination_path = os.path.join(destination_folder, file)\n",
    "   \n",
    "        # Move the file to the destination folder\n",
    "        shutil.move(source_path, destination_path)\n",
    "\n",
    "print('Images moved successfully.')"
   ]
  },
  {
   "cell_type": "code",
   "execution_count": 32,
   "metadata": {},
   "outputs": [
    {
     "data": {
      "text/html": [
       "<div>\n",
       "<style scoped>\n",
       "    .dataframe tbody tr th:only-of-type {\n",
       "        vertical-align: middle;\n",
       "    }\n",
       "\n",
       "    .dataframe tbody tr th {\n",
       "        vertical-align: top;\n",
       "    }\n",
       "\n",
       "    .dataframe thead th {\n",
       "        text-align: right;\n",
       "    }\n",
       "</style>\n",
       "<table border=\"1\" class=\"dataframe\">\n",
       "  <thead>\n",
       "    <tr style=\"text-align: right;\">\n",
       "      <th></th>\n",
       "      <th>id</th>\n",
       "      <th>text</th>\n",
       "    </tr>\n",
       "  </thead>\n",
       "  <tbody>\n",
       "    <tr>\n",
       "      <th>0</th>\n",
       "      <td>16395</td>\n",
       "      <td>handjobs sold seperately</td>\n",
       "    </tr>\n",
       "    <tr>\n",
       "      <th>1</th>\n",
       "      <td>37405</td>\n",
       "      <td>introducing fidget spinner for women</td>\n",
       "    </tr>\n",
       "    <tr>\n",
       "      <th>2</th>\n",
       "      <td>94180</td>\n",
       "      <td>happy pride month let's go beat up lesbians</td>\n",
       "    </tr>\n",
       "    <tr>\n",
       "      <th>3</th>\n",
       "      <td>54321</td>\n",
       "      <td>laughs in [majority of u.s crime rate]</td>\n",
       "    </tr>\n",
       "    <tr>\n",
       "      <th>4</th>\n",
       "      <td>97015</td>\n",
       "      <td>finds out those 72 virgins.. are goats</td>\n",
       "    </tr>\n",
       "    <tr>\n",
       "      <th>...</th>\n",
       "      <td>...</td>\n",
       "      <td>...</td>\n",
       "    </tr>\n",
       "    <tr>\n",
       "      <th>995</th>\n",
       "      <td>3869</td>\n",
       "      <td>a mother's love for the child is a divine thing</td>\n",
       "    </tr>\n",
       "    <tr>\n",
       "      <th>996</th>\n",
       "      <td>23817</td>\n",
       "      <td>sea monkeys</td>\n",
       "    </tr>\n",
       "    <tr>\n",
       "      <th>997</th>\n",
       "      <td>56280</td>\n",
       "      <td>little miss muffet sat on her tuffet</td>\n",
       "    </tr>\n",
       "    <tr>\n",
       "      <th>998</th>\n",
       "      <td>29384</td>\n",
       "      <td>they're in a row</td>\n",
       "    </tr>\n",
       "    <tr>\n",
       "      <th>999</th>\n",
       "      <td>34127</td>\n",
       "      <td>that feeling when you win a fifa game after be...</td>\n",
       "    </tr>\n",
       "  </tbody>\n",
       "</table>\n",
       "<p>1000 rows × 2 columns</p>\n",
       "</div>"
      ],
      "text/plain": [
       "        id                                               text\n",
       "0    16395                           handjobs sold seperately\n",
       "1    37405               introducing fidget spinner for women\n",
       "2    94180        happy pride month let's go beat up lesbians\n",
       "3    54321             laughs in [majority of u.s crime rate]\n",
       "4    97015             finds out those 72 virgins.. are goats\n",
       "..     ...                                                ...\n",
       "995   3869    a mother's love for the child is a divine thing\n",
       "996  23817                                        sea monkeys\n",
       "997  56280               little miss muffet sat on her tuffet\n",
       "998  29384                                   they're in a row\n",
       "999  34127  that feeling when you win a fifa game after be...\n",
       "\n",
       "[1000 rows x 2 columns]"
      ]
     },
     "execution_count": 32,
     "metadata": {},
     "output_type": "execute_result"
    }
   ],
   "source": [
    "df"
   ]
  },
  {
   "cell_type": "code",
   "execution_count": 33,
   "metadata": {},
   "outputs": [],
   "source": [
    "df['img']=\"\""
   ]
  },
  {
   "cell_type": "code",
   "execution_count": 34,
   "metadata": {},
   "outputs": [
    {
     "data": {
      "text/html": [
       "<div>\n",
       "<style scoped>\n",
       "    .dataframe tbody tr th:only-of-type {\n",
       "        vertical-align: middle;\n",
       "    }\n",
       "\n",
       "    .dataframe tbody tr th {\n",
       "        vertical-align: top;\n",
       "    }\n",
       "\n",
       "    .dataframe thead th {\n",
       "        text-align: right;\n",
       "    }\n",
       "</style>\n",
       "<table border=\"1\" class=\"dataframe\">\n",
       "  <thead>\n",
       "    <tr style=\"text-align: right;\">\n",
       "      <th></th>\n",
       "      <th>id</th>\n",
       "      <th>text</th>\n",
       "      <th>img</th>\n",
       "    </tr>\n",
       "  </thead>\n",
       "  <tbody>\n",
       "    <tr>\n",
       "      <th>0</th>\n",
       "      <td>16395</td>\n",
       "      <td>handjobs sold seperately</td>\n",
       "      <td></td>\n",
       "    </tr>\n",
       "    <tr>\n",
       "      <th>1</th>\n",
       "      <td>37405</td>\n",
       "      <td>introducing fidget spinner for women</td>\n",
       "      <td></td>\n",
       "    </tr>\n",
       "    <tr>\n",
       "      <th>2</th>\n",
       "      <td>94180</td>\n",
       "      <td>happy pride month let's go beat up lesbians</td>\n",
       "      <td></td>\n",
       "    </tr>\n",
       "    <tr>\n",
       "      <th>3</th>\n",
       "      <td>54321</td>\n",
       "      <td>laughs in [majority of u.s crime rate]</td>\n",
       "      <td></td>\n",
       "    </tr>\n",
       "    <tr>\n",
       "      <th>4</th>\n",
       "      <td>97015</td>\n",
       "      <td>finds out those 72 virgins.. are goats</td>\n",
       "      <td></td>\n",
       "    </tr>\n",
       "  </tbody>\n",
       "</table>\n",
       "</div>"
      ],
      "text/plain": [
       "      id                                         text img\n",
       "0  16395                     handjobs sold seperately    \n",
       "1  37405         introducing fidget spinner for women    \n",
       "2  94180  happy pride month let's go beat up lesbians    \n",
       "3  54321       laughs in [majority of u.s crime rate]    \n",
       "4  97015       finds out those 72 virgins.. are goats    "
      ]
     },
     "execution_count": 34,
     "metadata": {},
     "output_type": "execute_result"
    }
   ],
   "source": [
    "df.head()"
   ]
  },
  {
   "cell_type": "code",
   "execution_count": 35,
   "metadata": {},
   "outputs": [],
   "source": [
    "import numpy as np\n",
    "from tensorflow.keras.preprocessing import image\n",
    "img = []\n",
    "# print(df_train.count())\n",
    "for i in range(0, df_test.shape[0]):\n",
    "    #print(i)\n",
    "    im = image.load_img( data_dir+ df_test[\"img\"][i], target_size=(299,299))\n",
    "    img.append(im)"
   ]
  },
  {
   "cell_type": "code",
   "execution_count": 36,
   "metadata": {},
   "outputs": [],
   "source": [
    "# load Inception model\n",
    "from tensorflow.keras.applications.inception_v3 import InceptionV3\n",
    "from tensorflow.keras.applications.inception_v3 import preprocess_input, decode_predictions\n",
    "inception = InceptionV3(weights='imagenet')"
   ]
  },
  {
   "cell_type": "code",
   "execution_count": 37,
   "metadata": {},
   "outputs": [
    {
     "name": "stderr",
     "output_type": "stream",
     "text": [
      "C:\\Users\\ACER\\anaconda3\\lib\\site-packages\\ipykernel_launcher.py:10: SettingWithCopyWarning: \n",
      "A value is trying to be set on a copy of a slice from a DataFrame\n",
      "\n",
      "See the caveats in the documentation: https://pandas.pydata.org/pandas-docs/stable/user_guide/indexing.html#returning-a-view-versus-a-copy\n",
      "  # Remove the CWD from sys.path while we load stuff.\n"
     ]
    }
   ],
   "source": [
    "\n",
    "for i in range(df_test.shape[0]):\n",
    "    x = image.img_to_array(img[i]) #convert grey scale of RGB pixel array of (0,255)\n",
    "    x = np.array([x]) # converting into list of each x\n",
    "\n",
    "    x = preprocess_input(x) #normalize and scale RGB mean range btw[-1,1]\n",
    "    preds = inception.predict(x)# predcting probabilty of each calss for the x\n",
    "    predicted = decode_predictions(preds, top = 5)[0] # taking top 5 classes to consideration\n",
    "    for j in range(0, 5):\n",
    "#         print(df_train[\"text\"][i] + \" \" + predicted[j][1])\n",
    "        df['img'][i] = df[\"img\"][i] + \" \" + predicted[j][1]\n",
    "    "
   ]
  },
  {
   "cell_type": "code",
   "execution_count": 38,
   "metadata": {},
   "outputs": [
    {
     "data": {
      "text/html": [
       "<div>\n",
       "<style scoped>\n",
       "    .dataframe tbody tr th:only-of-type {\n",
       "        vertical-align: middle;\n",
       "    }\n",
       "\n",
       "    .dataframe tbody tr th {\n",
       "        vertical-align: top;\n",
       "    }\n",
       "\n",
       "    .dataframe thead th {\n",
       "        text-align: right;\n",
       "    }\n",
       "</style>\n",
       "<table border=\"1\" class=\"dataframe\">\n",
       "  <thead>\n",
       "    <tr style=\"text-align: right;\">\n",
       "      <th></th>\n",
       "      <th>id</th>\n",
       "      <th>text</th>\n",
       "      <th>img</th>\n",
       "    </tr>\n",
       "  </thead>\n",
       "  <tbody>\n",
       "    <tr>\n",
       "      <th>0</th>\n",
       "      <td>16395</td>\n",
       "      <td>handjobs sold seperately</td>\n",
       "      <td>wig hair_spray jersey hand_blower bookshop</td>\n",
       "    </tr>\n",
       "    <tr>\n",
       "      <th>1</th>\n",
       "      <td>37405</td>\n",
       "      <td>introducing fidget spinner for women</td>\n",
       "      <td>washer binoculars vending_machine coffee_mug ...</td>\n",
       "    </tr>\n",
       "    <tr>\n",
       "      <th>2</th>\n",
       "      <td>94180</td>\n",
       "      <td>happy pride month let's go beat up lesbians</td>\n",
       "      <td>sarong maillot wig gown bathing_cap</td>\n",
       "    </tr>\n",
       "    <tr>\n",
       "      <th>3</th>\n",
       "      <td>54321</td>\n",
       "      <td>laughs in [majority of u.s crime rate]</td>\n",
       "      <td>comic_book Band_Aid web_site dumbbell cellula...</td>\n",
       "    </tr>\n",
       "    <tr>\n",
       "      <th>4</th>\n",
       "      <td>97015</td>\n",
       "      <td>finds out those 72 virgins.. are goats</td>\n",
       "      <td>barbershop bubble barber_chair neck_brace com...</td>\n",
       "    </tr>\n",
       "  </tbody>\n",
       "</table>\n",
       "</div>"
      ],
      "text/plain": [
       "      id                                         text  \\\n",
       "0  16395                     handjobs sold seperately   \n",
       "1  37405         introducing fidget spinner for women   \n",
       "2  94180  happy pride month let's go beat up lesbians   \n",
       "3  54321       laughs in [majority of u.s crime rate]   \n",
       "4  97015       finds out those 72 virgins.. are goats   \n",
       "\n",
       "                                                 img  \n",
       "0         wig hair_spray jersey hand_blower bookshop  \n",
       "1   washer binoculars vending_machine coffee_mug ...  \n",
       "2                sarong maillot wig gown bathing_cap  \n",
       "3   comic_book Band_Aid web_site dumbbell cellula...  \n",
       "4   barbershop bubble barber_chair neck_brace com...  "
      ]
     },
     "execution_count": 38,
     "metadata": {},
     "output_type": "execute_result"
    }
   ],
   "source": [
    "df.head()"
   ]
  },
  {
   "cell_type": "code",
   "execution_count": 39,
   "metadata": {},
   "outputs": [],
   "source": [
    "df.to_csv('dataset_hmc_test.csv')"
   ]
  },
  {
   "cell_type": "code",
   "execution_count": 28,
   "metadata": {},
   "outputs": [],
   "source": []
  },
  {
   "cell_type": "code",
   "execution_count": null,
   "metadata": {},
   "outputs": [],
   "source": []
  }
 ],
 "metadata": {
  "kernelspec": {
   "display_name": "Python 3",
   "language": "python",
   "name": "python3"
  },
  "language_info": {
   "codemirror_mode": {
    "name": "ipython",
    "version": 3
   },
   "file_extension": ".py",
   "mimetype": "text/x-python",
   "name": "python",
   "nbconvert_exporter": "python",
   "pygments_lexer": "ipython3",
   "version": "3.7.6"
  }
 },
 "nbformat": 4,
 "nbformat_minor": 4
}
